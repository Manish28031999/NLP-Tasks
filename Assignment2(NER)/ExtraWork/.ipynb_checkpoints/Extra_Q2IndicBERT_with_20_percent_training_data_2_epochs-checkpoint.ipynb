{
 "cells": [
  {
   "cell_type": "code",
   "execution_count": 3,
   "metadata": {
    "_cell_guid": "b1076dfc-b9ad-4769-8c92-a6c4dae69d19",
    "_uuid": "8f2839f25d086af736a60e9eeb907d3b93b6e0e5",
    "execution": {
     "iopub.execute_input": "2024-03-10T05:36:21.615896Z",
     "iopub.status.busy": "2024-03-10T05:36:21.615533Z",
     "iopub.status.idle": "2024-03-10T05:37:14.030941Z",
     "shell.execute_reply": "2024-03-10T05:37:14.029918Z",
     "shell.execute_reply.started": "2024-03-10T05:36:21.615865Z"
    }
   },
   "outputs": [
    {
     "name": "stdout",
     "output_type": "stream",
     "text": [
      "Requirement already satisfied: transformers in /opt/conda/lib/python3.10/site-packages (4.38.1)\n",
      "Requirement already satisfied: filelock in /opt/conda/lib/python3.10/site-packages (from transformers) (3.13.1)\n",
      "Requirement already satisfied: huggingface-hub<1.0,>=0.19.3 in /opt/conda/lib/python3.10/site-packages (from transformers) (0.20.3)\n",
      "Requirement already satisfied: numpy>=1.17 in /opt/conda/lib/python3.10/site-packages (from transformers) (1.26.4)\n",
      "Requirement already satisfied: packaging>=20.0 in /opt/conda/lib/python3.10/site-packages (from transformers) (21.3)\n",
      "Requirement already satisfied: pyyaml>=5.1 in /opt/conda/lib/python3.10/site-packages (from transformers) (6.0.1)\n",
      "Requirement already satisfied: regex!=2019.12.17 in /opt/conda/lib/python3.10/site-packages (from transformers) (2023.12.25)\n",
      "Requirement already satisfied: requests in /opt/conda/lib/python3.10/site-packages (from transformers) (2.31.0)\n",
      "Requirement already satisfied: tokenizers<0.19,>=0.14 in /opt/conda/lib/python3.10/site-packages (from transformers) (0.15.2)\n",
      "Requirement already satisfied: safetensors>=0.4.1 in /opt/conda/lib/python3.10/site-packages (from transformers) (0.4.2)\n",
      "Requirement already satisfied: tqdm>=4.27 in /opt/conda/lib/python3.10/site-packages (from transformers) (4.66.1)\n",
      "Requirement already satisfied: fsspec>=2023.5.0 in /opt/conda/lib/python3.10/site-packages (from huggingface-hub<1.0,>=0.19.3->transformers) (2024.2.0)\n",
      "Requirement already satisfied: typing-extensions>=3.7.4.3 in /opt/conda/lib/python3.10/site-packages (from huggingface-hub<1.0,>=0.19.3->transformers) (4.9.0)\n",
      "Requirement already satisfied: pyparsing!=3.0.5,>=2.0.2 in /opt/conda/lib/python3.10/site-packages (from packaging>=20.0->transformers) (3.1.1)\n",
      "Requirement already satisfied: charset-normalizer<4,>=2 in /opt/conda/lib/python3.10/site-packages (from requests->transformers) (3.3.2)\n",
      "Requirement already satisfied: idna<4,>=2.5 in /opt/conda/lib/python3.10/site-packages (from requests->transformers) (3.6)\n",
      "Requirement already satisfied: urllib3<3,>=1.21.1 in /opt/conda/lib/python3.10/site-packages (from requests->transformers) (1.26.18)\n",
      "Requirement already satisfied: certifi>=2017.4.17 in /opt/conda/lib/python3.10/site-packages (from requests->transformers) (2024.2.2)\n",
      "Requirement already satisfied: datasets in /opt/conda/lib/python3.10/site-packages (2.1.0)\n",
      "Requirement already satisfied: numpy>=1.17 in /opt/conda/lib/python3.10/site-packages (from datasets) (1.26.4)\n",
      "Requirement already satisfied: pyarrow>=5.0.0 in /opt/conda/lib/python3.10/site-packages (from datasets) (11.0.0)\n",
      "Requirement already satisfied: dill in /opt/conda/lib/python3.10/site-packages (from datasets) (0.3.8)\n",
      "Requirement already satisfied: pandas in /opt/conda/lib/python3.10/site-packages (from datasets) (2.1.4)\n",
      "Requirement already satisfied: requests>=2.19.0 in /opt/conda/lib/python3.10/site-packages (from datasets) (2.31.0)\n",
      "Requirement already satisfied: tqdm>=4.62.1 in /opt/conda/lib/python3.10/site-packages (from datasets) (4.66.1)\n",
      "Requirement already satisfied: xxhash in /opt/conda/lib/python3.10/site-packages (from datasets) (3.4.1)\n",
      "Requirement already satisfied: multiprocess in /opt/conda/lib/python3.10/site-packages (from datasets) (0.70.16)\n",
      "Requirement already satisfied: fsspec>=2021.05.0 in /opt/conda/lib/python3.10/site-packages (from fsspec[http]>=2021.05.0->datasets) (2024.2.0)\n",
      "Requirement already satisfied: aiohttp in /opt/conda/lib/python3.10/site-packages (from datasets) (3.9.1)\n",
      "Requirement already satisfied: huggingface-hub<1.0.0,>=0.1.0 in /opt/conda/lib/python3.10/site-packages (from datasets) (0.20.3)\n",
      "Requirement already satisfied: packaging in /opt/conda/lib/python3.10/site-packages (from datasets) (21.3)\n",
      "Requirement already satisfied: responses<0.19 in /opt/conda/lib/python3.10/site-packages (from datasets) (0.18.0)\n",
      "Requirement already satisfied: attrs>=17.3.0 in /opt/conda/lib/python3.10/site-packages (from aiohttp->datasets) (23.2.0)\n",
      "Requirement already satisfied: multidict<7.0,>=4.5 in /opt/conda/lib/python3.10/site-packages (from aiohttp->datasets) (6.0.4)\n",
      "Requirement already satisfied: yarl<2.0,>=1.0 in /opt/conda/lib/python3.10/site-packages (from aiohttp->datasets) (1.9.3)\n",
      "Requirement already satisfied: frozenlist>=1.1.1 in /opt/conda/lib/python3.10/site-packages (from aiohttp->datasets) (1.4.1)\n",
      "Requirement already satisfied: aiosignal>=1.1.2 in /opt/conda/lib/python3.10/site-packages (from aiohttp->datasets) (1.3.1)\n",
      "Requirement already satisfied: async-timeout<5.0,>=4.0 in /opt/conda/lib/python3.10/site-packages (from aiohttp->datasets) (4.0.3)\n",
      "Requirement already satisfied: filelock in /opt/conda/lib/python3.10/site-packages (from huggingface-hub<1.0.0,>=0.1.0->datasets) (3.13.1)\n",
      "Requirement already satisfied: pyyaml>=5.1 in /opt/conda/lib/python3.10/site-packages (from huggingface-hub<1.0.0,>=0.1.0->datasets) (6.0.1)\n",
      "Requirement already satisfied: typing-extensions>=3.7.4.3 in /opt/conda/lib/python3.10/site-packages (from huggingface-hub<1.0.0,>=0.1.0->datasets) (4.9.0)\n",
      "Requirement already satisfied: pyparsing!=3.0.5,>=2.0.2 in /opt/conda/lib/python3.10/site-packages (from packaging->datasets) (3.1.1)\n",
      "Requirement already satisfied: charset-normalizer<4,>=2 in /opt/conda/lib/python3.10/site-packages (from requests>=2.19.0->datasets) (3.3.2)\n",
      "Requirement already satisfied: idna<4,>=2.5 in /opt/conda/lib/python3.10/site-packages (from requests>=2.19.0->datasets) (3.6)\n",
      "Requirement already satisfied: urllib3<3,>=1.21.1 in /opt/conda/lib/python3.10/site-packages (from requests>=2.19.0->datasets) (1.26.18)\n",
      "Requirement already satisfied: certifi>=2017.4.17 in /opt/conda/lib/python3.10/site-packages (from requests>=2.19.0->datasets) (2024.2.2)\n",
      "Requirement already satisfied: python-dateutil>=2.8.2 in /opt/conda/lib/python3.10/site-packages (from pandas->datasets) (2.8.2)\n",
      "Requirement already satisfied: pytz>=2020.1 in /opt/conda/lib/python3.10/site-packages (from pandas->datasets) (2023.3.post1)\n",
      "Requirement already satisfied: tzdata>=2022.1 in /opt/conda/lib/python3.10/site-packages (from pandas->datasets) (2023.4)\n",
      "Requirement already satisfied: six>=1.5 in /opt/conda/lib/python3.10/site-packages (from python-dateutil>=2.8.2->pandas->datasets) (1.16.0)\n",
      "Requirement already satisfied: sentencepiece in /opt/conda/lib/python3.10/site-packages (0.2.0)\n",
      "Collecting seqeval\n",
      "  Downloading seqeval-1.2.2.tar.gz (43 kB)\n",
      "\u001b[2K     \u001b[90m━━━━━━━━━━━━━━━━━━━━━━━━━━━━━━━━━━━━━━━━\u001b[0m \u001b[32m43.6/43.6 kB\u001b[0m \u001b[31m2.9 MB/s\u001b[0m eta \u001b[36m0:00:00\u001b[0m\n",
      "\u001b[?25h  Preparing metadata (setup.py) ... \u001b[?25ldone\n",
      "\u001b[?25hRequirement already satisfied: numpy>=1.14.0 in /opt/conda/lib/python3.10/site-packages (from seqeval) (1.26.4)\n",
      "Requirement already satisfied: scikit-learn>=0.21.3 in /opt/conda/lib/python3.10/site-packages (from seqeval) (1.2.2)\n",
      "Requirement already satisfied: scipy>=1.3.2 in /opt/conda/lib/python3.10/site-packages (from scikit-learn>=0.21.3->seqeval) (1.11.4)\n",
      "Requirement already satisfied: joblib>=1.1.1 in /opt/conda/lib/python3.10/site-packages (from scikit-learn>=0.21.3->seqeval) (1.3.2)\n",
      "Requirement already satisfied: threadpoolctl>=2.0.0 in /opt/conda/lib/python3.10/site-packages (from scikit-learn>=0.21.3->seqeval) (3.2.0)\n",
      "Building wheels for collected packages: seqeval\n",
      "  Building wheel for seqeval (setup.py) ... \u001b[?25ldone\n",
      "\u001b[?25h  Created wheel for seqeval: filename=seqeval-1.2.2-py3-none-any.whl size=16162 sha256=b792c7c063d0d96427716a1476d63ae197f1b0f3c828ee64c5a61c6f74d637e3\n",
      "  Stored in directory: /root/.cache/pip/wheels/1a/67/4a/ad4082dd7dfc30f2abfe4d80a2ed5926a506eb8a972b4767fa\n",
      "Successfully built seqeval\n",
      "Installing collected packages: seqeval\n",
      "Successfully installed seqeval-1.2.2\n"
     ]
    }
   ],
   "source": [
    "!pip3 install transformers\n",
    "!pip3 install datasets\n",
    "!pip3 install sentencepiece\n",
    "!pip install seqeval"
   ]
  },
  {
   "cell_type": "code",
   "execution_count": 4,
   "metadata": {
    "execution": {
     "iopub.execute_input": "2024-03-10T05:37:20.625794Z",
     "iopub.status.busy": "2024-03-10T05:37:20.625419Z",
     "iopub.status.idle": "2024-03-10T05:40:46.390943Z",
     "shell.execute_reply": "2024-03-10T05:40:46.390025Z",
     "shell.execute_reply.started": "2024-03-10T05:37:20.625758Z"
    }
   },
   "outputs": [
    {
     "data": {
      "application/vnd.jupyter.widget-view+json": {
       "model_id": "8a18d85f337f4787b14e49138c9db5f5",
       "version_major": 2,
       "version_minor": 0
      },
      "text/plain": [
       "Downloading builder script:   0%|          | 0.00/2.86k [00:00<?, ?B/s]"
      ]
     },
     "metadata": {},
     "output_type": "display_data"
    },
    {
     "name": "stdout",
     "output_type": "stream",
     "text": [
      "Downloading and preparing dataset naamapadam_pr/hi to /root/.cache/huggingface/datasets/ai4bharat___naamapadam_pr/hi/1.0.0/99b5ec77eabfaa3fbff510d8cf70d7c34519486cb7dbee99ede19474ddff9b20...\n"
     ]
    },
    {
     "data": {
      "application/vnd.jupyter.widget-view+json": {
       "model_id": "dd50a21979564811a79944cea42a0fc1",
       "version_major": 2,
       "version_minor": 0
      },
      "text/plain": [
       "Downloading data:   0%|          | 0.00/82.3M [00:00<?, ?B/s]"
      ]
     },
     "metadata": {},
     "output_type": "display_data"
    },
    {
     "data": {
      "application/vnd.jupyter.widget-view+json": {
       "model_id": "",
       "version_major": 2,
       "version_minor": 0
      },
      "text/plain": [
       "Generating train split: 0 examples [00:00, ? examples/s]"
      ]
     },
     "metadata": {},
     "output_type": "display_data"
    },
    {
     "data": {
      "application/vnd.jupyter.widget-view+json": {
       "model_id": "",
       "version_major": 2,
       "version_minor": 0
      },
      "text/plain": [
       "Generating test split: 0 examples [00:00, ? examples/s]"
      ]
     },
     "metadata": {},
     "output_type": "display_data"
    },
    {
     "data": {
      "application/vnd.jupyter.widget-view+json": {
       "model_id": "",
       "version_major": 2,
       "version_minor": 0
      },
      "text/plain": [
       "Generating validation split: 0 examples [00:00, ? examples/s]"
      ]
     },
     "metadata": {},
     "output_type": "display_data"
    },
    {
     "name": "stdout",
     "output_type": "stream",
     "text": [
      "Dataset naamapadam_pr downloaded and prepared to /root/.cache/huggingface/datasets/ai4bharat___naamapadam_pr/hi/1.0.0/99b5ec77eabfaa3fbff510d8cf70d7c34519486cb7dbee99ede19474ddff9b20. Subsequent calls will reuse this data.\n"
     ]
    },
    {
     "data": {
      "application/vnd.jupyter.widget-view+json": {
       "model_id": "0e3b9b6cea06409b81ccfb954b180ee0",
       "version_major": 2,
       "version_minor": 0
      },
      "text/plain": [
       "  0%|          | 0/3 [00:00<?, ?it/s]"
      ]
     },
     "metadata": {},
     "output_type": "display_data"
    }
   ],
   "source": [
    "# Let's download the Naampadam (Indic NER) dataset\n",
    "from datasets import ClassLabel, load_dataset, load_metric, DownloadMode\n",
    "\n",
    "lang='hi'\n",
    "\n",
    "raw_datasets = load_dataset('ai4bharat/naamapadam', lang)"
   ]
  },
  {
   "cell_type": "code",
   "execution_count": 5,
   "metadata": {
    "execution": {
     "iopub.execute_input": "2024-03-10T05:40:55.349932Z",
     "iopub.status.busy": "2024-03-10T05:40:55.349361Z",
     "iopub.status.idle": "2024-03-10T05:40:55.429653Z",
     "shell.execute_reply": "2024-03-10T05:40:55.428786Z",
     "shell.execute_reply.started": "2024-03-10T05:40:55.349898Z"
    }
   },
   "outputs": [
    {
     "data": {
      "text/plain": [
       "DatasetDict({\n",
       "    train: Dataset({\n",
       "        features: ['tokens', 'ner_tags'],\n",
       "        num_rows: 985787\n",
       "    })\n",
       "    test: Dataset({\n",
       "        features: ['tokens', 'ner_tags'],\n",
       "        num_rows: 867\n",
       "    })\n",
       "    validation: Dataset({\n",
       "        features: ['tokens', 'ner_tags'],\n",
       "        num_rows: 13460\n",
       "    })\n",
       "})"
      ]
     },
     "execution_count": 5,
     "metadata": {},
     "output_type": "execute_result"
    }
   ],
   "source": [
    "raw_datasets"
   ]
  },
  {
   "cell_type": "code",
   "execution_count": 6,
   "metadata": {
    "execution": {
     "iopub.execute_input": "2024-03-10T05:40:58.819148Z",
     "iopub.status.busy": "2024-03-10T05:40:58.818282Z",
     "iopub.status.idle": "2024-03-10T05:40:58.824011Z",
     "shell.execute_reply": "2024-03-10T05:40:58.823043Z",
     "shell.execute_reply.started": "2024-03-10T05:40:58.819113Z"
    }
   },
   "outputs": [
    {
     "name": "stdout",
     "output_type": "stream",
     "text": [
      "['tokens', 'ner_tags']\n",
      "{'tokens': Sequence(feature=Value(dtype='string', id=None), length=-1, id=None), 'ner_tags': Sequence(feature=ClassLabel(num_classes=7, names=['O', 'B-PER', 'I-PER', 'B-ORG', 'I-ORG', 'B-LOC', 'I-LOC'], id=None), length=-1, id=None)}\n"
     ]
    }
   ],
   "source": [
    "column_names = raw_datasets[\"train\"].column_names\n",
    "print(column_names)\n",
    "\n",
    "features = raw_datasets[\"train\"].features\n",
    "print(features)"
   ]
  },
  {
   "cell_type": "code",
   "execution_count": 7,
   "metadata": {
    "execution": {
     "iopub.execute_input": "2024-03-10T05:41:02.048038Z",
     "iopub.status.busy": "2024-03-10T05:41:02.047627Z",
     "iopub.status.idle": "2024-03-10T05:41:02.052389Z",
     "shell.execute_reply": "2024-03-10T05:41:02.051500Z",
     "shell.execute_reply.started": "2024-03-10T05:41:02.048009Z"
    }
   },
   "outputs": [],
   "source": [
    "text_column_name = \"tokens\"\n",
    "label_column_name = \"ner_tags\""
   ]
  },
  {
   "cell_type": "code",
   "execution_count": 8,
   "metadata": {
    "execution": {
     "iopub.execute_input": "2024-03-10T05:41:04.480460Z",
     "iopub.status.busy": "2024-03-10T05:41:04.480100Z",
     "iopub.status.idle": "2024-03-10T05:41:04.486075Z",
     "shell.execute_reply": "2024-03-10T05:41:04.485237Z",
     "shell.execute_reply.started": "2024-03-10T05:41:04.480430Z"
    }
   },
   "outputs": [
    {
     "name": "stdout",
     "output_type": "stream",
     "text": [
      "{'O': 0, 'B-PER': 1, 'I-PER': 2, 'B-ORG': 3, 'I-ORG': 4, 'B-LOC': 5, 'I-LOC': 6}\n"
     ]
    }
   ],
   "source": [
    "label_list = features[label_column_name].feature.names\n",
    "\n",
    "label_to_id = {label_list[i]: features[label_column_name].feature.str2int( label_list[i] ) for i in range(len(label_list))}\n",
    "\n",
    "print(label_to_id)\n",
    "\n",
    "num_labels = len(label_list)"
   ]
  },
  {
   "cell_type": "code",
   "execution_count": 9,
   "metadata": {
    "execution": {
     "iopub.execute_input": "2024-03-10T05:41:07.482801Z",
     "iopub.status.busy": "2024-03-10T05:41:07.482090Z",
     "iopub.status.idle": "2024-03-10T05:41:31.037890Z",
     "shell.execute_reply": "2024-03-10T05:41:31.037084Z",
     "shell.execute_reply.started": "2024-03-10T05:41:07.482769Z"
    }
   },
   "outputs": [
    {
     "name": "stderr",
     "output_type": "stream",
     "text": [
      "2024-03-10 05:41:16.778117: E external/local_xla/xla/stream_executor/cuda/cuda_dnn.cc:9261] Unable to register cuDNN factory: Attempting to register factory for plugin cuDNN when one has already been registered\n",
      "2024-03-10 05:41:16.778227: E external/local_xla/xla/stream_executor/cuda/cuda_fft.cc:607] Unable to register cuFFT factory: Attempting to register factory for plugin cuFFT when one has already been registered\n",
      "2024-03-10 05:41:16.956439: E external/local_xla/xla/stream_executor/cuda/cuda_blas.cc:1515] Unable to register cuBLAS factory: Attempting to register factory for plugin cuBLAS when one has already been registered\n"
     ]
    },
    {
     "data": {
      "application/vnd.jupyter.widget-view+json": {
       "model_id": "d6721943c62a40218396e15737591260",
       "version_major": 2,
       "version_minor": 0
      },
      "text/plain": [
       "config.json:   0%|          | 0.00/507 [00:00<?, ?B/s]"
      ]
     },
     "metadata": {},
     "output_type": "display_data"
    },
    {
     "data": {
      "application/vnd.jupyter.widget-view+json": {
       "model_id": "3604a926951f459e91019165822034d3",
       "version_major": 2,
       "version_minor": 0
      },
      "text/plain": [
       "spiece.model:   0%|          | 0.00/5.65M [00:00<?, ?B/s]"
      ]
     },
     "metadata": {},
     "output_type": "display_data"
    },
    {
     "data": {
      "application/vnd.jupyter.widget-view+json": {
       "model_id": "dfb776a71d8e413cb657cf336c8545dd",
       "version_major": 2,
       "version_minor": 0
      },
      "text/plain": [
       "pytorch_model.bin:   0%|          | 0.00/135M [00:00<?, ?B/s]"
      ]
     },
     "metadata": {},
     "output_type": "display_data"
    },
    {
     "name": "stderr",
     "output_type": "stream",
     "text": [
      "/opt/conda/lib/python3.10/site-packages/torch/_utils.py:831: UserWarning: TypedStorage is deprecated. It will be removed in the future and UntypedStorage will be the only storage class. This should only matter to you if you are using storages directly.  To access UntypedStorage directly, use tensor.untyped_storage() instead of tensor.storage()\n",
      "  return self.fget.__get__(instance, owner)()\n",
      "Some weights of AlbertForTokenClassification were not initialized from the model checkpoint at ai4bharat/indic-bert and are newly initialized: ['classifier.bias', 'classifier.weight']\n",
      "You should probably TRAIN this model on a down-stream task to be able to use it for predictions and inference.\n"
     ]
    }
   ],
   "source": [
    "from transformers import AutoModelForTokenClassification, AutoConfig, AutoTokenizer, TrainingArguments, Trainer, DataCollatorForTokenClassification, EarlyStoppingCallback, IntervalStrategy\n",
    "import numpy as np\n",
    "\n",
    "config = AutoConfig.from_pretrained('ai4bharat/indic-bert', num_labels=num_labels, finetuning_task='ner')\n",
    "tokenizer = AutoTokenizer.from_pretrained(\"ai4bharat/indic-bert\")\n",
    "model = AutoModelForTokenClassification.from_pretrained('ai4bharat/indic-bert', num_labels=num_labels )"
   ]
  },
  {
   "cell_type": "code",
   "execution_count": 10,
   "metadata": {
    "execution": {
     "iopub.execute_input": "2024-03-10T05:41:34.890885Z",
     "iopub.status.busy": "2024-03-10T05:41:34.889742Z",
     "iopub.status.idle": "2024-03-10T05:41:35.132493Z",
     "shell.execute_reply": "2024-03-10T05:41:35.131536Z",
     "shell.execute_reply.started": "2024-03-10T05:41:34.890850Z"
    }
   },
   "outputs": [],
   "source": [
    "model=model.to(\"cuda\")"
   ]
  },
  {
   "cell_type": "code",
   "execution_count": 12,
   "metadata": {
    "execution": {
     "iopub.execute_input": "2024-03-10T05:41:43.256098Z",
     "iopub.status.busy": "2024-03-10T05:41:43.255711Z",
     "iopub.status.idle": "2024-03-10T05:41:43.264231Z",
     "shell.execute_reply": "2024-03-10T05:41:43.263217Z",
     "shell.execute_reply.started": "2024-03-10T05:41:43.256070Z"
    }
   },
   "outputs": [],
   "source": [
    "# Tokenize all texts and align the labels with them.\n",
    "padding = \"max_length\"\n",
    "def tokenize_and_align_labels(examples):\n",
    "    tokenized_inputs = tokenizer(\n",
    "        examples[text_column_name],\n",
    "        padding=padding,\n",
    "        truncation=True,\n",
    "        max_length=512,\n",
    "        # We use this argument because the texts in our dataset are lists of words (with a label for each word).\n",
    "        is_split_into_words=True,\n",
    "    )\n",
    "    labels = []\n",
    "    for i, label in enumerate(examples[label_column_name]):\n",
    "        # print('=====')\n",
    "        # print('{} {}'.format(i,label)) #ak\n",
    "        word_ids = tokenized_inputs.word_ids(batch_index=i)\n",
    "        \n",
    "        previous_word_idx = None\n",
    "        label_ids = []\n",
    "        for word_idx in word_ids:\n",
    "            # Special tokens have a word id that is None. We set the label to -100 so they are automatically\n",
    "            # ignored in the loss function.\n",
    "            if word_idx is None:\n",
    "                label_ids.append(-100)\n",
    "            # We set the label for the first token of each word.\n",
    "            elif word_idx != previous_word_idx:\n",
    "                label_ids.append(label[word_idx])\n",
    "            # For the other tokens in a word, we set the label to either the current label or -100, depending on\n",
    "            # the label_all_tokens flag.\n",
    "            else:\n",
    "                label_ids.append(-100)\n",
    "            previous_word_idx = word_idx\n",
    "\n",
    "        labels.append(label_ids)\n",
    "    tokenized_inputs[\"labels\"] = labels\n",
    "    return tokenized_inputs"
   ]
  },
  {
   "cell_type": "code",
   "execution_count": 13,
   "metadata": {
    "execution": {
     "iopub.execute_input": "2024-03-10T05:41:47.274311Z",
     "iopub.status.busy": "2024-03-10T05:41:47.273503Z",
     "iopub.status.idle": "2024-03-10T05:42:51.323305Z",
     "shell.execute_reply": "2024-03-10T05:42:51.322156Z",
     "shell.execute_reply.started": "2024-03-10T05:41:47.274281Z"
    }
   },
   "outputs": [
    {
     "name": "stdout",
     "output_type": "stream",
     "text": [
      "     "
     ]
    },
    {
     "data": {
      "application/vnd.jupyter.widget-view+json": {
       "model_id": "727644761bf44f7c8f2d0e1c3c002bd4",
       "version_major": 2,
       "version_minor": 0
      },
      "text/plain": [
       "Running tokenizer on train dataset #0:   0%|          | 0/50 [00:00<?, ?ba/s]"
      ]
     },
     "metadata": {},
     "output_type": "display_data"
    },
    {
     "name": "stdout",
     "output_type": "stream",
     "text": [
      " "
     ]
    },
    {
     "data": {
      "application/vnd.jupyter.widget-view+json": {
       "model_id": "2460ed6b294d4c48b6ba55631a5ff2e4",
       "version_major": 2,
       "version_minor": 0
      },
      "text/plain": [
       "Running tokenizer on train dataset #1:   0%|          | 0/50 [00:00<?, ?ba/s]"
      ]
     },
     "metadata": {},
     "output_type": "display_data"
    },
    {
     "name": "stdout",
     "output_type": "stream",
     "text": [
      " "
     ]
    },
    {
     "data": {
      "application/vnd.jupyter.widget-view+json": {
       "model_id": "8f4bf480314c4a3ba781c6f917e248be",
       "version_major": 2,
       "version_minor": 0
      },
      "text/plain": [
       "Running tokenizer on train dataset #2:   0%|          | 0/50 [00:00<?, ?ba/s]"
      ]
     },
     "metadata": {},
     "output_type": "display_data"
    },
    {
     "name": "stdout",
     "output_type": "stream",
     "text": [
      " "
     ]
    },
    {
     "data": {
      "application/vnd.jupyter.widget-view+json": {
       "model_id": "38f970fff1264bec8fc987aa0808ff0c",
       "version_major": 2,
       "version_minor": 0
      },
      "text/plain": [
       "Running tokenizer on train dataset #3:   0%|          | 0/50 [00:00<?, ?ba/s]"
      ]
     },
     "metadata": {},
     "output_type": "display_data"
    }
   ],
   "source": [
    "# Get the length of the original training set\n",
    "original_train_size = len(raw_datasets[\"train\"])\n",
    "\n",
    "# Calculate the number of samples to keep for 20% of the original training set\n",
    "new_train_size = int(original_train_size * 0.2)\n",
    "train_dataset = raw_datasets[\"train\"].select(range(new_train_size))\n",
    "train_dataset = train_dataset.map(\n",
    "    tokenize_and_align_labels,\n",
    "    batched=True,\n",
    "    num_proc=4,\n",
    "    load_from_cache_file=True,\n",
    "    desc=\"Running tokenizer on train dataset\",\n",
    ")"
   ]
  },
  {
   "cell_type": "code",
   "execution_count": 14,
   "metadata": {
    "execution": {
     "iopub.execute_input": "2024-03-10T05:42:58.292736Z",
     "iopub.status.busy": "2024-03-10T05:42:58.292349Z",
     "iopub.status.idle": "2024-03-10T05:43:03.039630Z",
     "shell.execute_reply": "2024-03-10T05:43:03.038521Z",
     "shell.execute_reply.started": "2024-03-10T05:42:58.292691Z"
    }
   },
   "outputs": [
    {
     "name": "stdout",
     "output_type": "stream",
     "text": [
      "       "
     ]
    },
    {
     "data": {
      "application/vnd.jupyter.widget-view+json": {
       "model_id": "a61c6eb27f454ff0bd7f6b89a0887698",
       "version_major": 2,
       "version_minor": 0
      },
      "text/plain": [
       "Running tokenizer on Validation dataset #0:   0%|          | 0/4 [00:00<?, ?ba/s]"
      ]
     },
     "metadata": {},
     "output_type": "display_data"
    },
    {
     "name": "stdout",
     "output_type": "stream",
     "text": [
      " "
     ]
    },
    {
     "data": {
      "application/vnd.jupyter.widget-view+json": {
       "model_id": "f0d5b91220e4441e823a9d8c321ddf97",
       "version_major": 2,
       "version_minor": 0
      },
      "text/plain": [
       "Running tokenizer on Validation dataset #1:   0%|          | 0/4 [00:00<?, ?ba/s]"
      ]
     },
     "metadata": {},
     "output_type": "display_data"
    },
    {
     "data": {
      "application/vnd.jupyter.widget-view+json": {
       "model_id": "10405642b1af4ab086aa5a056f4e919f",
       "version_major": 2,
       "version_minor": 0
      },
      "text/plain": [
       "Running tokenizer on Validation dataset #2:   0%|          | 0/4 [00:00<?, ?ba/s]"
      ]
     },
     "metadata": {},
     "output_type": "display_data"
    },
    {
     "data": {
      "application/vnd.jupyter.widget-view+json": {
       "model_id": "32e5f15af8c54b1686929dd76a59c3b7",
       "version_major": 2,
       "version_minor": 0
      },
      "text/plain": [
       "Running tokenizer on Validation dataset #3:   0%|          | 0/4 [00:00<?, ?ba/s]"
      ]
     },
     "metadata": {},
     "output_type": "display_data"
    }
   ],
   "source": [
    "eval_dataset = raw_datasets[\"validation\"]\n",
    "eval_dataset = eval_dataset.map(\n",
    "    tokenize_and_align_labels,\n",
    "    batched=True,\n",
    "    num_proc=4,\n",
    "    load_from_cache_file=True,\n",
    "    desc=\"Running tokenizer on Validation dataset\",\n",
    ")"
   ]
  },
  {
   "cell_type": "code",
   "execution_count": 15,
   "metadata": {
    "execution": {
     "iopub.execute_input": "2024-03-10T05:43:07.287241Z",
     "iopub.status.busy": "2024-03-10T05:43:07.286537Z",
     "iopub.status.idle": "2024-03-10T05:43:07.292035Z",
     "shell.execute_reply": "2024-03-10T05:43:07.290960Z",
     "shell.execute_reply.started": "2024-03-10T05:43:07.287207Z"
    }
   },
   "outputs": [],
   "source": [
    "data_collator = DataCollatorForTokenClassification(tokenizer)\n"
   ]
  },
  {
   "cell_type": "code",
   "execution_count": 16,
   "metadata": {
    "execution": {
     "iopub.execute_input": "2024-03-10T05:43:10.056373Z",
     "iopub.status.busy": "2024-03-10T05:43:10.056012Z",
     "iopub.status.idle": "2024-03-10T05:43:10.745972Z",
     "shell.execute_reply": "2024-03-10T05:43:10.745101Z",
     "shell.execute_reply.started": "2024-03-10T05:43:10.056343Z"
    }
   },
   "outputs": [
    {
     "data": {
      "application/vnd.jupyter.widget-view+json": {
       "model_id": "5219ec07d56144158f515b6e4c2acd07",
       "version_major": 2,
       "version_minor": 0
      },
      "text/plain": [
       "Downloading builder script:   0%|          | 0.00/2.47k [00:00<?, ?B/s]"
      ]
     },
     "metadata": {},
     "output_type": "display_data"
    }
   ],
   "source": [
    "# Metrics\n",
    "metric = load_metric(\"seqeval\")\n",
    "\n",
    "def compute_metrics(p):\n",
    "    predictions, labels = p\n",
    "    predictions = np.argmax(predictions, axis=2)\n",
    "\n",
    "    # Remove ignored index (special tokens)\n",
    "    true_predictions = [\n",
    "        [label_list[p] for (p, l) in zip(prediction, label) if l != -100]\n",
    "        for prediction, label in zip(predictions, labels)\n",
    "    ]\n",
    "    true_labels = [\n",
    "        [label_list[l] for (p, l) in zip(prediction, label) if l != -100]\n",
    "        for prediction, label in zip(predictions, labels)\n",
    "    ]\n",
    "\n",
    "    results = metric.compute(predictions=true_predictions, references=true_labels)\n",
    "    # Unpack nested dictionaries\n",
    "    final_results = {}\n",
    "    for key, value in results.items():\n",
    "        if isinstance(value, dict):\n",
    "            for n, v in value.items():\n",
    "                final_results[f\"{key}_{n}\"] = v\n",
    "        else:\n",
    "            final_results[key] = value\n",
    "    return final_results"
   ]
  },
  {
   "cell_type": "code",
   "execution_count": 25,
   "metadata": {
    "execution": {
     "iopub.execute_input": "2024-03-10T05:51:19.248074Z",
     "iopub.status.busy": "2024-03-10T05:51:19.247667Z",
     "iopub.status.idle": "2024-03-10T05:51:19.257930Z",
     "shell.execute_reply": "2024-03-10T05:51:19.256794Z",
     "shell.execute_reply.started": "2024-03-10T05:51:19.248044Z"
    }
   },
   "outputs": [],
   "source": [
    "args=TrainingArguments(\n",
    "    output_dir='output_dir',\n",
    "    per_device_train_batch_size=12,\n",
    "    per_device_eval_batch_size=12,\n",
    "    num_train_epochs=2,\n",
    "    evaluation_strategy = \"epoch\",\n",
    "    learning_rate=2e-5)"
   ]
  },
  {
   "cell_type": "markdown",
   "metadata": {},
   "source": []
  },
  {
   "cell_type": "code",
   "execution_count": 26,
   "metadata": {
    "execution": {
     "iopub.execute_input": "2024-03-10T05:51:22.008050Z",
     "iopub.status.busy": "2024-03-10T05:51:22.007355Z",
     "iopub.status.idle": "2024-03-10T05:51:22.021041Z",
     "shell.execute_reply": "2024-03-10T05:51:22.020129Z",
     "shell.execute_reply.started": "2024-03-10T05:51:22.008016Z"
    }
   },
   "outputs": [],
   "source": [
    "trainer = Trainer(\n",
    "    model=model,\n",
    "    train_dataset=train_dataset,\n",
    "    eval_dataset=eval_dataset,\n",
    "    tokenizer=tokenizer,\n",
    "    data_collator=data_collator,\n",
    "    compute_metrics=compute_metrics,\n",
    "    # callbacks=[early_stopping_callback],\n",
    "    args=args,\n",
    ")"
   ]
  },
  {
   "cell_type": "code",
   "execution_count": 27,
   "metadata": {
    "execution": {
     "iopub.execute_input": "2024-03-10T05:51:25.546961Z",
     "iopub.status.busy": "2024-03-10T05:51:25.546162Z",
     "iopub.status.idle": "2024-03-10T05:51:25.556227Z",
     "shell.execute_reply": "2024-03-10T05:51:25.555035Z",
     "shell.execute_reply.started": "2024-03-10T05:51:25.546927Z"
    }
   },
   "outputs": [
    {
     "data": {
      "text/plain": [
       "TrainingArguments(\n",
       "_n_gpu=2,\n",
       "accelerator_config={'split_batches': False, 'dispatch_batches': None, 'even_batches': True, 'use_seedable_sampler': True},\n",
       "adafactor=False,\n",
       "adam_beta1=0.9,\n",
       "adam_beta2=0.999,\n",
       "adam_epsilon=1e-08,\n",
       "auto_find_batch_size=False,\n",
       "bf16=False,\n",
       "bf16_full_eval=False,\n",
       "data_seed=None,\n",
       "dataloader_drop_last=False,\n",
       "dataloader_num_workers=0,\n",
       "dataloader_persistent_workers=False,\n",
       "dataloader_pin_memory=True,\n",
       "dataloader_prefetch_factor=None,\n",
       "ddp_backend=None,\n",
       "ddp_broadcast_buffers=None,\n",
       "ddp_bucket_cap_mb=None,\n",
       "ddp_find_unused_parameters=None,\n",
       "ddp_timeout=1800,\n",
       "debug=[],\n",
       "deepspeed=None,\n",
       "disable_tqdm=False,\n",
       "dispatch_batches=None,\n",
       "do_eval=True,\n",
       "do_predict=False,\n",
       "do_train=False,\n",
       "eval_accumulation_steps=None,\n",
       "eval_delay=0,\n",
       "eval_steps=None,\n",
       "evaluation_strategy=epoch,\n",
       "fp16=False,\n",
       "fp16_backend=auto,\n",
       "fp16_full_eval=False,\n",
       "fp16_opt_level=O1,\n",
       "fsdp=[],\n",
       "fsdp_config={'min_num_params': 0, 'xla': False, 'xla_fsdp_v2': False, 'xla_fsdp_grad_ckpt': False},\n",
       "fsdp_min_num_params=0,\n",
       "fsdp_transformer_layer_cls_to_wrap=None,\n",
       "full_determinism=False,\n",
       "gradient_accumulation_steps=1,\n",
       "gradient_checkpointing=False,\n",
       "gradient_checkpointing_kwargs=None,\n",
       "greater_is_better=None,\n",
       "group_by_length=False,\n",
       "half_precision_backend=auto,\n",
       "hub_always_push=False,\n",
       "hub_model_id=None,\n",
       "hub_private_repo=False,\n",
       "hub_strategy=every_save,\n",
       "hub_token=<HUB_TOKEN>,\n",
       "ignore_data_skip=False,\n",
       "include_inputs_for_metrics=False,\n",
       "include_num_input_tokens_seen=False,\n",
       "include_tokens_per_second=False,\n",
       "jit_mode_eval=False,\n",
       "label_names=None,\n",
       "label_smoothing_factor=0.0,\n",
       "learning_rate=2e-05,\n",
       "length_column_name=length,\n",
       "load_best_model_at_end=False,\n",
       "local_rank=0,\n",
       "log_level=passive,\n",
       "log_level_replica=warning,\n",
       "log_on_each_node=True,\n",
       "logging_dir=output_dir/runs/Mar10_05-51-19_c7e08f997220,\n",
       "logging_first_step=False,\n",
       "logging_nan_inf_filter=True,\n",
       "logging_steps=500,\n",
       "logging_strategy=steps,\n",
       "lr_scheduler_kwargs={},\n",
       "lr_scheduler_type=linear,\n",
       "max_grad_norm=1.0,\n",
       "max_steps=-1,\n",
       "metric_for_best_model=None,\n",
       "mp_parameters=,\n",
       "neftune_noise_alpha=None,\n",
       "no_cuda=False,\n",
       "num_train_epochs=2,\n",
       "optim=adamw_torch,\n",
       "optim_args=None,\n",
       "output_dir=output_dir,\n",
       "overwrite_output_dir=False,\n",
       "past_index=-1,\n",
       "per_device_eval_batch_size=12,\n",
       "per_device_train_batch_size=12,\n",
       "prediction_loss_only=False,\n",
       "push_to_hub=False,\n",
       "push_to_hub_model_id=None,\n",
       "push_to_hub_organization=None,\n",
       "push_to_hub_token=<PUSH_TO_HUB_TOKEN>,\n",
       "ray_scope=last,\n",
       "remove_unused_columns=True,\n",
       "report_to=['tensorboard', 'wandb'],\n",
       "resume_from_checkpoint=None,\n",
       "run_name=output_dir,\n",
       "save_on_each_node=False,\n",
       "save_only_model=False,\n",
       "save_safetensors=True,\n",
       "save_steps=500,\n",
       "save_strategy=steps,\n",
       "save_total_limit=None,\n",
       "seed=42,\n",
       "skip_memory_metrics=True,\n",
       "split_batches=None,\n",
       "tf32=None,\n",
       "torch_compile=False,\n",
       "torch_compile_backend=None,\n",
       "torch_compile_mode=None,\n",
       "torchdynamo=None,\n",
       "tpu_metrics_debug=False,\n",
       "tpu_num_cores=None,\n",
       "use_cpu=False,\n",
       "use_ipex=False,\n",
       "use_legacy_prediction_loop=False,\n",
       "use_mps_device=False,\n",
       "warmup_ratio=0.0,\n",
       "warmup_steps=0,\n",
       "weight_decay=0.0,\n",
       ")"
      ]
     },
     "execution_count": 27,
     "metadata": {},
     "output_type": "execute_result"
    }
   ],
   "source": [
    "trainer.args"
   ]
  },
  {
   "cell_type": "code",
   "execution_count": 28,
   "metadata": {
    "execution": {
     "iopub.execute_input": "2024-03-10T05:51:30.664349Z",
     "iopub.status.busy": "2024-03-10T05:51:30.663455Z",
     "iopub.status.idle": "2024-03-10T11:02:45.893351Z",
     "shell.execute_reply": "2024-03-10T11:02:45.892370Z",
     "shell.execute_reply.started": "2024-03-10T05:51:30.664313Z"
    }
   },
   "outputs": [
    {
     "data": {
      "text/html": [
       "\n",
       "    <div>\n",
       "      \n",
       "      <progress value='16430' max='16430' style='width:300px; height:20px; vertical-align: middle;'></progress>\n",
       "      [16430/16430 5:11:13, Epoch 2/2]\n",
       "    </div>\n",
       "    <table border=\"1\" class=\"dataframe\">\n",
       "  <thead>\n",
       " <tr style=\"text-align: left;\">\n",
       "      <th>Epoch</th>\n",
       "      <th>Training Loss</th>\n",
       "      <th>Validation Loss</th>\n",
       "      <th>Loc Precision</th>\n",
       "      <th>Loc Recall</th>\n",
       "      <th>Loc F1</th>\n",
       "      <th>Loc Number</th>\n",
       "      <th>Org Precision</th>\n",
       "      <th>Org Recall</th>\n",
       "      <th>Org F1</th>\n",
       "      <th>Org Number</th>\n",
       "      <th>Per Precision</th>\n",
       "      <th>Per Recall</th>\n",
       "      <th>Per F1</th>\n",
       "      <th>Per Number</th>\n",
       "      <th>Overall Precision</th>\n",
       "      <th>Overall Recall</th>\n",
       "      <th>Overall F1</th>\n",
       "      <th>Overall Accuracy</th>\n",
       "    </tr>\n",
       "  </thead>\n",
       "  <tbody>\n",
       "    <tr>\n",
       "      <td>1</td>\n",
       "      <td>0.227800</td>\n",
       "      <td>0.224216</td>\n",
       "      <td>0.725934</td>\n",
       "      <td>0.791540</td>\n",
       "      <td>0.757319</td>\n",
       "      <td>10213</td>\n",
       "      <td>0.617861</td>\n",
       "      <td>0.598099</td>\n",
       "      <td>0.607820</td>\n",
       "      <td>9786</td>\n",
       "      <td>0.751614</td>\n",
       "      <td>0.749338</td>\n",
       "      <td>0.750474</td>\n",
       "      <td>10568</td>\n",
       "      <td>0.701750</td>\n",
       "      <td>0.715019</td>\n",
       "      <td>0.708323</td>\n",
       "      <td>0.929979</td>\n",
       "    </tr>\n",
       "    <tr>\n",
       "      <td>2</td>\n",
       "      <td>0.204200</td>\n",
       "      <td>0.212302</td>\n",
       "      <td>0.764399</td>\n",
       "      <td>0.788799</td>\n",
       "      <td>0.776407</td>\n",
       "      <td>10213</td>\n",
       "      <td>0.644200</td>\n",
       "      <td>0.605559</td>\n",
       "      <td>0.624282</td>\n",
       "      <td>9786</td>\n",
       "      <td>0.760751</td>\n",
       "      <td>0.763342</td>\n",
       "      <td>0.762044</td>\n",
       "      <td>10568</td>\n",
       "      <td>0.726682</td>\n",
       "      <td>0.721333</td>\n",
       "      <td>0.723998</td>\n",
       "      <td>0.933578</td>\n",
       "    </tr>\n",
       "  </tbody>\n",
       "</table><p>"
      ],
      "text/plain": [
       "<IPython.core.display.HTML object>"
      ]
     },
     "metadata": {},
     "output_type": "display_data"
    },
    {
     "name": "stderr",
     "output_type": "stream",
     "text": [
      "/opt/conda/lib/python3.10/site-packages/torch/nn/parallel/_functions.py:68: UserWarning: Was asked to gather along dimension 0, but all input tensors were scalars; will instead unsqueeze and return a vector.\n",
      "  warnings.warn('Was asked to gather along dimension 0, but all '\n",
      "/opt/conda/lib/python3.10/site-packages/torch/nn/parallel/_functions.py:68: UserWarning: Was asked to gather along dimension 0, but all input tensors were scalars; will instead unsqueeze and return a vector.\n",
      "  warnings.warn('Was asked to gather along dimension 0, but all '\n",
      "/opt/conda/lib/python3.10/site-packages/torch/nn/parallel/_functions.py:68: UserWarning: Was asked to gather along dimension 0, but all input tensors were scalars; will instead unsqueeze and return a vector.\n",
      "  warnings.warn('Was asked to gather along dimension 0, but all '\n",
      "/opt/conda/lib/python3.10/site-packages/torch/nn/parallel/_functions.py:68: UserWarning: Was asked to gather along dimension 0, but all input tensors were scalars; will instead unsqueeze and return a vector.\n",
      "  warnings.warn('Was asked to gather along dimension 0, but all '\n",
      "/opt/conda/lib/python3.10/site-packages/torch/nn/parallel/_functions.py:68: UserWarning: Was asked to gather along dimension 0, but all input tensors were scalars; will instead unsqueeze and return a vector.\n",
      "  warnings.warn('Was asked to gather along dimension 0, but all '\n",
      "/opt/conda/lib/python3.10/site-packages/torch/nn/parallel/_functions.py:68: UserWarning: Was asked to gather along dimension 0, but all input tensors were scalars; will instead unsqueeze and return a vector.\n",
      "  warnings.warn('Was asked to gather along dimension 0, but all '\n",
      "/opt/conda/lib/python3.10/site-packages/torch/nn/parallel/_functions.py:68: UserWarning: Was asked to gather along dimension 0, but all input tensors were scalars; will instead unsqueeze and return a vector.\n",
      "  warnings.warn('Was asked to gather along dimension 0, but all '\n",
      "/opt/conda/lib/python3.10/site-packages/torch/nn/parallel/_functions.py:68: UserWarning: Was asked to gather along dimension 0, but all input tensors were scalars; will instead unsqueeze and return a vector.\n",
      "  warnings.warn('Was asked to gather along dimension 0, but all '\n",
      "/opt/conda/lib/python3.10/site-packages/torch/nn/parallel/_functions.py:68: UserWarning: Was asked to gather along dimension 0, but all input tensors were scalars; will instead unsqueeze and return a vector.\n",
      "  warnings.warn('Was asked to gather along dimension 0, but all '\n",
      "/opt/conda/lib/python3.10/site-packages/torch/nn/parallel/_functions.py:68: UserWarning: Was asked to gather along dimension 0, but all input tensors were scalars; will instead unsqueeze and return a vector.\n",
      "  warnings.warn('Was asked to gather along dimension 0, but all '\n",
      "/opt/conda/lib/python3.10/site-packages/torch/nn/parallel/_functions.py:68: UserWarning: Was asked to gather along dimension 0, but all input tensors were scalars; will instead unsqueeze and return a vector.\n",
      "  warnings.warn('Was asked to gather along dimension 0, but all '\n",
      "/opt/conda/lib/python3.10/site-packages/torch/nn/parallel/_functions.py:68: UserWarning: Was asked to gather along dimension 0, but all input tensors were scalars; will instead unsqueeze and return a vector.\n",
      "  warnings.warn('Was asked to gather along dimension 0, but all '\n",
      "/opt/conda/lib/python3.10/site-packages/torch/nn/parallel/_functions.py:68: UserWarning: Was asked to gather along dimension 0, but all input tensors were scalars; will instead unsqueeze and return a vector.\n",
      "  warnings.warn('Was asked to gather along dimension 0, but all '\n",
      "/opt/conda/lib/python3.10/site-packages/torch/nn/parallel/_functions.py:68: UserWarning: Was asked to gather along dimension 0, but all input tensors were scalars; will instead unsqueeze and return a vector.\n",
      "  warnings.warn('Was asked to gather along dimension 0, but all '\n",
      "/opt/conda/lib/python3.10/site-packages/torch/nn/parallel/_functions.py:68: UserWarning: Was asked to gather along dimension 0, but all input tensors were scalars; will instead unsqueeze and return a vector.\n",
      "  warnings.warn('Was asked to gather along dimension 0, but all '\n",
      "/opt/conda/lib/python3.10/site-packages/torch/nn/parallel/_functions.py:68: UserWarning: Was asked to gather along dimension 0, but all input tensors were scalars; will instead unsqueeze and return a vector.\n",
      "  warnings.warn('Was asked to gather along dimension 0, but all '\n",
      "/opt/conda/lib/python3.10/site-packages/torch/nn/parallel/_functions.py:68: UserWarning: Was asked to gather along dimension 0, but all input tensors were scalars; will instead unsqueeze and return a vector.\n",
      "  warnings.warn('Was asked to gather along dimension 0, but all '\n",
      "/opt/conda/lib/python3.10/site-packages/torch/nn/parallel/_functions.py:68: UserWarning: Was asked to gather along dimension 0, but all input tensors were scalars; will instead unsqueeze and return a vector.\n",
      "  warnings.warn('Was asked to gather along dimension 0, but all '\n",
      "/opt/conda/lib/python3.10/site-packages/torch/nn/parallel/_functions.py:68: UserWarning: Was asked to gather along dimension 0, but all input tensors were scalars; will instead unsqueeze and return a vector.\n",
      "  warnings.warn('Was asked to gather along dimension 0, but all '\n",
      "/opt/conda/lib/python3.10/site-packages/torch/nn/parallel/_functions.py:68: UserWarning: Was asked to gather along dimension 0, but all input tensors were scalars; will instead unsqueeze and return a vector.\n",
      "  warnings.warn('Was asked to gather along dimension 0, but all '\n",
      "/opt/conda/lib/python3.10/site-packages/torch/nn/parallel/_functions.py:68: UserWarning: Was asked to gather along dimension 0, but all input tensors were scalars; will instead unsqueeze and return a vector.\n",
      "  warnings.warn('Was asked to gather along dimension 0, but all '\n",
      "/opt/conda/lib/python3.10/site-packages/torch/nn/parallel/_functions.py:68: UserWarning: Was asked to gather along dimension 0, but all input tensors were scalars; will instead unsqueeze and return a vector.\n",
      "  warnings.warn('Was asked to gather along dimension 0, but all '\n",
      "/opt/conda/lib/python3.10/site-packages/torch/nn/parallel/_functions.py:68: UserWarning: Was asked to gather along dimension 0, but all input tensors were scalars; will instead unsqueeze and return a vector.\n",
      "  warnings.warn('Was asked to gather along dimension 0, but all '\n",
      "/opt/conda/lib/python3.10/site-packages/torch/nn/parallel/_functions.py:68: UserWarning: Was asked to gather along dimension 0, but all input tensors were scalars; will instead unsqueeze and return a vector.\n",
      "  warnings.warn('Was asked to gather along dimension 0, but all '\n",
      "/opt/conda/lib/python3.10/site-packages/torch/nn/parallel/_functions.py:68: UserWarning: Was asked to gather along dimension 0, but all input tensors were scalars; will instead unsqueeze and return a vector.\n",
      "  warnings.warn('Was asked to gather along dimension 0, but all '\n",
      "/opt/conda/lib/python3.10/site-packages/torch/nn/parallel/_functions.py:68: UserWarning: Was asked to gather along dimension 0, but all input tensors were scalars; will instead unsqueeze and return a vector.\n",
      "  warnings.warn('Was asked to gather along dimension 0, but all '\n",
      "/opt/conda/lib/python3.10/site-packages/torch/nn/parallel/_functions.py:68: UserWarning: Was asked to gather along dimension 0, but all input tensors were scalars; will instead unsqueeze and return a vector.\n",
      "  warnings.warn('Was asked to gather along dimension 0, but all '\n",
      "/opt/conda/lib/python3.10/site-packages/torch/nn/parallel/_functions.py:68: UserWarning: Was asked to gather along dimension 0, but all input tensors were scalars; will instead unsqueeze and return a vector.\n",
      "  warnings.warn('Was asked to gather along dimension 0, but all '\n",
      "/opt/conda/lib/python3.10/site-packages/torch/nn/parallel/_functions.py:68: UserWarning: Was asked to gather along dimension 0, but all input tensors were scalars; will instead unsqueeze and return a vector.\n",
      "  warnings.warn('Was asked to gather along dimension 0, but all '\n",
      "/opt/conda/lib/python3.10/site-packages/torch/nn/parallel/_functions.py:68: UserWarning: Was asked to gather along dimension 0, but all input tensors were scalars; will instead unsqueeze and return a vector.\n",
      "  warnings.warn('Was asked to gather along dimension 0, but all '\n",
      "/opt/conda/lib/python3.10/site-packages/torch/nn/parallel/_functions.py:68: UserWarning: Was asked to gather along dimension 0, but all input tensors were scalars; will instead unsqueeze and return a vector.\n",
      "  warnings.warn('Was asked to gather along dimension 0, but all '\n",
      "/opt/conda/lib/python3.10/site-packages/torch/nn/parallel/_functions.py:68: UserWarning: Was asked to gather along dimension 0, but all input tensors were scalars; will instead unsqueeze and return a vector.\n",
      "  warnings.warn('Was asked to gather along dimension 0, but all '\n"
     ]
    }
   ],
   "source": [
    "train_result = trainer.train()\n",
    "metrics = train_result.metrics"
   ]
  },
  {
   "cell_type": "code",
   "execution_count": 112,
   "metadata": {
    "execution": {
     "iopub.execute_input": "2024-03-10T13:01:15.296188Z",
     "iopub.status.busy": "2024-03-10T13:01:15.295508Z",
     "iopub.status.idle": "2024-03-10T13:01:15.303437Z",
     "shell.execute_reply": "2024-03-10T13:01:15.302011Z",
     "shell.execute_reply.started": "2024-03-10T13:01:15.296157Z"
    }
   },
   "outputs": [
    {
     "name": "stdout",
     "output_type": "stream",
     "text": [
      "0.720911\n"
     ]
    }
   ],
   "source": [
    "sumoff1score=0.776407+0.624282+0.762044\n",
    "macrof1=sumoff1score/3\n",
    "print(macrof1)"
   ]
  },
  {
   "cell_type": "code",
   "execution_count": 66,
   "metadata": {
    "execution": {
     "iopub.execute_input": "2024-03-10T12:07:39.390541Z",
     "iopub.status.busy": "2024-03-10T12:07:39.389674Z",
     "iopub.status.idle": "2024-03-10T12:07:39.716553Z",
     "shell.execute_reply": "2024-03-10T12:07:39.715605Z",
     "shell.execute_reply.started": "2024-03-10T12:07:39.390508Z"
    }
   },
   "outputs": [],
   "source": [
    "model.save_pretrained('my_indicBERT')"
   ]
  },
  {
   "cell_type": "code",
   "execution_count": 67,
   "metadata": {
    "execution": {
     "iopub.execute_input": "2024-03-10T12:08:07.218718Z",
     "iopub.status.busy": "2024-03-10T12:08:07.218069Z",
     "iopub.status.idle": "2024-03-10T12:08:07.308445Z",
     "shell.execute_reply": "2024-03-10T12:08:07.307060Z",
     "shell.execute_reply.started": "2024-03-10T12:08:07.218686Z"
    }
   },
   "outputs": [
    {
     "data": {
      "text/plain": [
       "('tokenizer_indicBERT/tokenizer_config.json',\n",
       " 'tokenizer_indicBERT/special_tokens_map.json',\n",
       " 'tokenizer_indicBERT/spiece.model',\n",
       " 'tokenizer_indicBERT/added_tokens.json',\n",
       " 'tokenizer_indicBERT/tokenizer.json')"
      ]
     },
     "execution_count": 67,
     "metadata": {},
     "output_type": "execute_result"
    }
   ],
   "source": [
    "tokenizer.save_pretrained(\"tokenizer_indicBERT\")"
   ]
  },
  {
   "cell_type": "code",
   "execution_count": 69,
   "metadata": {
    "execution": {
     "iopub.execute_input": "2024-03-10T12:08:31.065128Z",
     "iopub.status.busy": "2024-03-10T12:08:31.064405Z",
     "iopub.status.idle": "2024-03-10T12:08:31.071809Z",
     "shell.execute_reply": "2024-03-10T12:08:31.070529Z",
     "shell.execute_reply.started": "2024-03-10T12:08:31.065095Z"
    }
   },
   "outputs": [],
   "source": [
    "id2label = {\n",
    "    str(i): label for i,label in enumerate(label_list)\n",
    "}\n",
    "label2id = {\n",
    "    label: str(i) for i,label in enumerate(label_list)\n",
    "}"
   ]
  },
  {
   "cell_type": "code",
   "execution_count": 71,
   "metadata": {
    "execution": {
     "iopub.execute_input": "2024-03-10T12:09:58.043931Z",
     "iopub.status.busy": "2024-03-10T12:09:58.043584Z",
     "iopub.status.idle": "2024-03-10T12:09:58.049943Z",
     "shell.execute_reply": "2024-03-10T12:09:58.048797Z",
     "shell.execute_reply.started": "2024-03-10T12:09:58.043903Z"
    }
   },
   "outputs": [],
   "source": [
    "import json\n",
    "config = json.load(open(\"/kaggle/working/my_indicBERT/config.json\"))"
   ]
  },
  {
   "cell_type": "code",
   "execution_count": 73,
   "metadata": {
    "execution": {
     "iopub.execute_input": "2024-03-10T12:10:16.660330Z",
     "iopub.status.busy": "2024-03-10T12:10:16.659728Z",
     "iopub.status.idle": "2024-03-10T12:10:16.666088Z",
     "shell.execute_reply": "2024-03-10T12:10:16.665205Z",
     "shell.execute_reply.started": "2024-03-10T12:10:16.660299Z"
    }
   },
   "outputs": [],
   "source": [
    "config[\"id2label\"] = id2label\n",
    "config[\"label2id\"] = label2id"
   ]
  },
  {
   "cell_type": "code",
   "execution_count": 75,
   "metadata": {
    "execution": {
     "iopub.execute_input": "2024-03-10T12:11:00.203921Z",
     "iopub.status.busy": "2024-03-10T12:11:00.203546Z",
     "iopub.status.idle": "2024-03-10T12:11:00.210291Z",
     "shell.execute_reply": "2024-03-10T12:11:00.209118Z",
     "shell.execute_reply.started": "2024-03-10T12:11:00.203889Z"
    }
   },
   "outputs": [],
   "source": [
    "json.dump(config, open(\"/kaggle/working/my_indicBERT/config.json\",\"w\"))"
   ]
  },
  {
   "cell_type": "code",
   "execution_count": 113,
   "metadata": {
    "execution": {
     "iopub.execute_input": "2024-03-10T13:23:23.645152Z",
     "iopub.status.busy": "2024-03-10T13:23:23.644416Z",
     "iopub.status.idle": "2024-03-10T13:23:23.723784Z",
     "shell.execute_reply": "2024-03-10T13:23:23.722741Z",
     "shell.execute_reply.started": "2024-03-10T13:23:23.645118Z"
    }
   },
   "outputs": [],
   "source": [
    "model = AutoModelForTokenClassification.from_pretrained('/kaggle/working/my_indicBERT')"
   ]
  },
  {
   "cell_type": "code",
   "execution_count": 114,
   "metadata": {
    "execution": {
     "iopub.execute_input": "2024-03-10T13:23:26.148274Z",
     "iopub.status.busy": "2024-03-10T13:23:26.147739Z",
     "iopub.status.idle": "2024-03-10T13:23:26.159465Z",
     "shell.execute_reply": "2024-03-10T13:23:26.158393Z",
     "shell.execute_reply.started": "2024-03-10T13:23:26.148230Z"
    }
   },
   "outputs": [
    {
     "data": {
      "text/plain": [
       "AlbertForTokenClassification(\n",
       "  (albert): AlbertModel(\n",
       "    (embeddings): AlbertEmbeddings(\n",
       "      (word_embeddings): Embedding(200000, 128, padding_idx=0)\n",
       "      (position_embeddings): Embedding(512, 128)\n",
       "      (token_type_embeddings): Embedding(2, 128)\n",
       "      (LayerNorm): LayerNorm((128,), eps=1e-12, elementwise_affine=True)\n",
       "      (dropout): Dropout(p=0, inplace=False)\n",
       "    )\n",
       "    (encoder): AlbertTransformer(\n",
       "      (embedding_hidden_mapping_in): Linear(in_features=128, out_features=768, bias=True)\n",
       "      (albert_layer_groups): ModuleList(\n",
       "        (0): AlbertLayerGroup(\n",
       "          (albert_layers): ModuleList(\n",
       "            (0): AlbertLayer(\n",
       "              (full_layer_layer_norm): LayerNorm((768,), eps=1e-12, elementwise_affine=True)\n",
       "              (attention): AlbertAttention(\n",
       "                (query): Linear(in_features=768, out_features=768, bias=True)\n",
       "                (key): Linear(in_features=768, out_features=768, bias=True)\n",
       "                (value): Linear(in_features=768, out_features=768, bias=True)\n",
       "                (attention_dropout): Dropout(p=0, inplace=False)\n",
       "                (output_dropout): Dropout(p=0, inplace=False)\n",
       "                (dense): Linear(in_features=768, out_features=768, bias=True)\n",
       "                (LayerNorm): LayerNorm((768,), eps=1e-12, elementwise_affine=True)\n",
       "              )\n",
       "              (ffn): Linear(in_features=768, out_features=3072, bias=True)\n",
       "              (ffn_output): Linear(in_features=3072, out_features=768, bias=True)\n",
       "              (activation): GELUActivation()\n",
       "              (dropout): Dropout(p=0, inplace=False)\n",
       "            )\n",
       "          )\n",
       "        )\n",
       "      )\n",
       "    )\n",
       "  )\n",
       "  (dropout): Dropout(p=0.1, inplace=False)\n",
       "  (classifier): Linear(in_features=768, out_features=7, bias=True)\n",
       ")"
      ]
     },
     "execution_count": 114,
     "metadata": {},
     "output_type": "execute_result"
    }
   ],
   "source": [
    "model"
   ]
  },
  {
   "cell_type": "code",
   "execution_count": 115,
   "metadata": {
    "execution": {
     "iopub.execute_input": "2024-03-10T13:26:22.916945Z",
     "iopub.status.busy": "2024-03-10T13:26:22.916525Z",
     "iopub.status.idle": "2024-03-10T13:26:22.927579Z",
     "shell.execute_reply": "2024-03-10T13:26:22.926498Z",
     "shell.execute_reply.started": "2024-03-10T13:26:22.916913Z"
    }
   },
   "outputs": [],
   "source": [
    "def get_ner(sentence):\n",
    "    tok_sentence = tokenizer(sentence, return_tensors='pt')\n",
    "\n",
    "    with torch.no_grad():\n",
    "        logits = model(**tok_sentence).logits.argmax(-1)\n",
    "        predicted_tokens_classes = [\n",
    "            model.config.id2label[t.item()] for t in logits[0]]\n",
    "\n",
    "        predicted_labels = []\n",
    "\n",
    "        previous_token_id = 0\n",
    "        word_ids = tok_sentence.word_ids()\n",
    "        for word_index in range(len(word_ids)):\n",
    "            if word_ids[word_index] == None:\n",
    "                previous_token_id = word_ids[word_index]\n",
    "            elif word_ids[word_index] == previous_token_id:\n",
    "                previous_token_id = word_ids[word_index]\n",
    "            else:\n",
    "                predicted_labels.append(predicted_tokens_classes[word_index])\n",
    "                previous_token_id = word_ids[word_index]\n",
    "\n",
    "        ner_output = []\n",
    "        for index in range(len(sentence.split(' '))):\n",
    "            if(index<len(predicted_labels)):\n",
    "                ner_output.append((sentence.split(' ')[index], predicted_labels[index]))\n",
    "            else:\n",
    "                ner_output.append((sentence.split(' ')[index], 'O'))\n",
    "        return ner_output"
   ]
  },
  {
   "cell_type": "code",
   "execution_count": 96,
   "metadata": {
    "execution": {
     "iopub.execute_input": "2024-03-10T12:45:13.392754Z",
     "iopub.status.busy": "2024-03-10T12:45:13.392016Z",
     "iopub.status.idle": "2024-03-10T12:45:13.481588Z",
     "shell.execute_reply": "2024-03-10T12:45:13.480155Z",
     "shell.execute_reply.started": "2024-03-10T12:45:13.392700Z"
    }
   },
   "outputs": [],
   "source": [
    "sentence='लगातार हमलावर हो रहे शिवपाल और राजभर को सपा की दो टूक, चिट्ठी जारी कर कहा- जहां जाना चाहें जा सकते हैं |'\n",
    "output=get_ner(sentence)"
   ]
  },
  {
   "cell_type": "code",
   "execution_count": 97,
   "metadata": {
    "execution": {
     "iopub.execute_input": "2024-03-10T12:45:16.539458Z",
     "iopub.status.busy": "2024-03-10T12:45:16.539100Z",
     "iopub.status.idle": "2024-03-10T12:45:16.546450Z",
     "shell.execute_reply": "2024-03-10T12:45:16.545580Z",
     "shell.execute_reply.started": "2024-03-10T12:45:16.539431Z"
    }
   },
   "outputs": [
    {
     "name": "stdout",
     "output_type": "stream",
     "text": [
      "[('लगातार', 'O'), ('हमलावर', 'O'), ('हो', 'O'), ('रहे', 'O'), ('शिवपाल', 'B-PER'), ('और', 'O'), ('राजभर', 'B-PER'), ('को', 'O'), ('सपा', 'O'), ('की', 'O'), ('दो', 'O'), ('टूक,', 'O'), ('चिट्ठी', 'O'), ('जारी', 'O'), ('कर', 'O'), ('कहा-', 'O'), ('जहां', 'O'), ('जाना', 'O'), ('चाहें', 'O'), ('जा', 'O'), ('सकते', 'O'), ('हैं', 'O'), ('|', 'O')]\n"
     ]
    }
   ],
   "source": [
    "print(output)"
   ]
  },
  {
   "cell_type": "code",
   "execution_count": 89,
   "metadata": {
    "execution": {
     "iopub.execute_input": "2024-03-10T12:27:23.250845Z",
     "iopub.status.busy": "2024-03-10T12:27:23.249888Z",
     "iopub.status.idle": "2024-03-10T12:27:24.258811Z",
     "shell.execute_reply": "2024-03-10T12:27:24.257586Z",
     "shell.execute_reply.started": "2024-03-10T12:27:23.250809Z"
    }
   },
   "outputs": [
    {
     "name": "stdout",
     "output_type": "stream",
     "text": [
      "my_indicBERT  output_dir  tokenizer_indicBERT  wandb\n"
     ]
    }
   ],
   "source": [
    "!ls"
   ]
  },
  {
   "cell_type": "code",
   "execution_count": 91,
   "metadata": {
    "execution": {
     "iopub.execute_input": "2024-03-10T12:27:45.198604Z",
     "iopub.status.busy": "2024-03-10T12:27:45.198227Z",
     "iopub.status.idle": "2024-03-10T12:27:53.095634Z",
     "shell.execute_reply": "2024-03-10T12:27:53.094465Z",
     "shell.execute_reply.started": "2024-03-10T12:27:45.198575Z"
    }
   },
   "outputs": [
    {
     "name": "stdout",
     "output_type": "stream",
     "text": [
      "  adding: kaggle/working/my_indicBERT/ (stored 0%)\n",
      "  adding: kaggle/working/my_indicBERT/model.safetensors (deflated 7%)\n",
      "  adding: kaggle/working/my_indicBERT/config.json (deflated 51%)\n"
     ]
    }
   ],
   "source": [
    "!zip -r BertTuned.zip /kaggle/working/my_indicBERT"
   ]
  },
  {
   "cell_type": "code",
   "execution_count": 92,
   "metadata": {
    "execution": {
     "iopub.execute_input": "2024-03-10T12:29:29.376365Z",
     "iopub.status.busy": "2024-03-10T12:29:29.375931Z",
     "iopub.status.idle": "2024-03-10T12:29:31.253110Z",
     "shell.execute_reply": "2024-03-10T12:29:31.251993Z",
     "shell.execute_reply.started": "2024-03-10T12:29:29.376334Z"
    }
   },
   "outputs": [
    {
     "name": "stdout",
     "output_type": "stream",
     "text": [
      "  adding: kaggle/working/tokenizer_indicBERT/ (stored 0%)\n",
      "  adding: kaggle/working/tokenizer_indicBERT/tokenizer.json (deflated 77%)\n",
      "  adding: kaggle/working/tokenizer_indicBERT/spiece.model (deflated 60%)\n",
      "  adding: kaggle/working/tokenizer_indicBERT/special_tokens_map.json (deflated 49%)\n",
      "  adding: kaggle/working/tokenizer_indicBERT/tokenizer_config.json (deflated 74%)\n"
     ]
    }
   ],
   "source": [
    "!zip -r BertTuned_tokenizer.zip /kaggle/working/tokenizer_indicBERT"
   ]
  },
  {
   "cell_type": "code",
   "execution_count": 94,
   "metadata": {
    "execution": {
     "iopub.execute_input": "2024-03-10T12:44:55.578621Z",
     "iopub.status.busy": "2024-03-10T12:44:55.577670Z",
     "iopub.status.idle": "2024-03-10T12:44:55.589485Z",
     "shell.execute_reply": "2024-03-10T12:44:55.588387Z",
     "shell.execute_reply.started": "2024-03-10T12:44:55.578586Z"
    }
   },
   "outputs": [
    {
     "data": {
      "text/plain": [
       "AlbertForTokenClassification(\n",
       "  (albert): AlbertModel(\n",
       "    (embeddings): AlbertEmbeddings(\n",
       "      (word_embeddings): Embedding(200000, 128, padding_idx=0)\n",
       "      (position_embeddings): Embedding(512, 128)\n",
       "      (token_type_embeddings): Embedding(2, 128)\n",
       "      (LayerNorm): LayerNorm((128,), eps=1e-12, elementwise_affine=True)\n",
       "      (dropout): Dropout(p=0, inplace=False)\n",
       "    )\n",
       "    (encoder): AlbertTransformer(\n",
       "      (embedding_hidden_mapping_in): Linear(in_features=128, out_features=768, bias=True)\n",
       "      (albert_layer_groups): ModuleList(\n",
       "        (0): AlbertLayerGroup(\n",
       "          (albert_layers): ModuleList(\n",
       "            (0): AlbertLayer(\n",
       "              (full_layer_layer_norm): LayerNorm((768,), eps=1e-12, elementwise_affine=True)\n",
       "              (attention): AlbertAttention(\n",
       "                (query): Linear(in_features=768, out_features=768, bias=True)\n",
       "                (key): Linear(in_features=768, out_features=768, bias=True)\n",
       "                (value): Linear(in_features=768, out_features=768, bias=True)\n",
       "                (attention_dropout): Dropout(p=0, inplace=False)\n",
       "                (output_dropout): Dropout(p=0, inplace=False)\n",
       "                (dense): Linear(in_features=768, out_features=768, bias=True)\n",
       "                (LayerNorm): LayerNorm((768,), eps=1e-12, elementwise_affine=True)\n",
       "              )\n",
       "              (ffn): Linear(in_features=768, out_features=3072, bias=True)\n",
       "              (ffn_output): Linear(in_features=3072, out_features=768, bias=True)\n",
       "              (activation): GELUActivation()\n",
       "              (dropout): Dropout(p=0, inplace=False)\n",
       "            )\n",
       "          )\n",
       "        )\n",
       "      )\n",
       "    )\n",
       "  )\n",
       "  (dropout): Dropout(p=0.1, inplace=False)\n",
       "  (classifier): Linear(in_features=768, out_features=7, bias=True)\n",
       ")"
      ]
     },
     "execution_count": 94,
     "metadata": {},
     "output_type": "execute_result"
    }
   ],
   "source": [
    "model\n"
   ]
  },
  {
   "cell_type": "code",
   "execution_count": 119,
   "metadata": {
    "execution": {
     "iopub.execute_input": "2024-03-10T13:32:21.424479Z",
     "iopub.status.busy": "2024-03-10T13:32:21.424118Z",
     "iopub.status.idle": "2024-03-10T13:32:22.358315Z",
     "shell.execute_reply": "2024-03-10T13:32:22.356807Z",
     "shell.execute_reply.started": "2024-03-10T13:32:21.424452Z"
    }
   },
   "outputs": [
    {
     "name": "stdout",
     "output_type": "stream",
     "text": [
      "        "
     ]
    },
    {
     "data": {
      "application/vnd.jupyter.widget-view+json": {
       "model_id": "9fa2128f101c4ec9b7e6b9479d7c70ce",
       "version_major": 2,
       "version_minor": 0
      },
      "text/plain": [
       "Running tokenizer on test dataset #0:   0%|          | 0/1 [00:00<?, ?ba/s]"
      ]
     },
     "metadata": {},
     "output_type": "display_data"
    },
    {
     "data": {
      "application/vnd.jupyter.widget-view+json": {
       "model_id": "30b2aaad3432464188a2682668871b18",
       "version_major": 2,
       "version_minor": 0
      },
      "text/plain": [
       "Running tokenizer on test dataset #1:   0%|          | 0/1 [00:00<?, ?ba/s]"
      ]
     },
     "metadata": {},
     "output_type": "display_data"
    },
    {
     "data": {
      "application/vnd.jupyter.widget-view+json": {
       "model_id": "99821cdd2c494839bbf47b96bdfbc4ff",
       "version_major": 2,
       "version_minor": 0
      },
      "text/plain": [
       "Running tokenizer on test dataset #2:   0%|          | 0/1 [00:00<?, ?ba/s]"
      ]
     },
     "metadata": {},
     "output_type": "display_data"
    },
    {
     "data": {
      "application/vnd.jupyter.widget-view+json": {
       "model_id": "4bca70a002f04746aa26ccd37b90a93b",
       "version_major": 2,
       "version_minor": 0
      },
      "text/plain": [
       "Running tokenizer on test dataset #3:   0%|          | 0/1 [00:00<?, ?ba/s]"
      ]
     },
     "metadata": {},
     "output_type": "display_data"
    }
   ],
   "source": [
    "test_dataset = raw_datasets[\"test\"]\n",
    "tokenize_test_dataset = test_dataset.map(\n",
    "    tokenize_and_align_labels,\n",
    "    batched=True,\n",
    "    num_proc=4,\n",
    "    load_from_cache_file=True,\n",
    "    desc=\"Running tokenizer on test dataset\",\n",
    ")"
   ]
  },
  {
   "cell_type": "code",
   "execution_count": 120,
   "metadata": {
    "execution": {
     "iopub.execute_input": "2024-03-10T13:32:30.843407Z",
     "iopub.status.busy": "2024-03-10T13:32:30.842632Z",
     "iopub.status.idle": "2024-03-10T13:32:48.135129Z",
     "shell.execute_reply": "2024-03-10T13:32:48.133993Z",
     "shell.execute_reply.started": "2024-03-10T13:32:30.843374Z"
    }
   },
   "outputs": [
    {
     "data": {
      "text/html": [],
      "text/plain": [
       "<IPython.core.display.HTML object>"
      ]
     },
     "metadata": {},
     "output_type": "display_data"
    }
   ],
   "source": [
    "predictions, labels, metrics = trainer.predict(tokenize_test_dataset)\n",
    "\n",
    "lang_specific_results = {}\n",
    "for key in metrics:\n",
    "    if 'overall_precision' in key:\n",
    "      lang_specific_results['Precision'] = metrics[key]\n",
    "    elif 'overall_recall' in key:\n",
    "      lang_specific_results['Recall'] = metrics[key]\n",
    "    elif 'overall_f1' in key:\n",
    "      lang_specific_results['F1'] = metrics[key]"
   ]
  },
  {
   "cell_type": "code",
   "execution_count": 121,
   "metadata": {
    "execution": {
     "iopub.execute_input": "2024-03-10T13:32:52.990548Z",
     "iopub.status.busy": "2024-03-10T13:32:52.989654Z",
     "iopub.status.idle": "2024-03-10T13:32:52.998624Z",
     "shell.execute_reply": "2024-03-10T13:32:52.997542Z",
     "shell.execute_reply.started": "2024-03-10T13:32:52.990516Z"
    }
   },
   "outputs": [
    {
     "name": "stdout",
     "output_type": "stream",
     "text": [
      "{'test_loss': 0.16320694983005524, 'test_LOC_precision': 0.7712854757929883, 'test_LOC_recall': 0.752442996742671, 'test_LOC_f1': 0.7617477328936522, 'test_LOC_number': 614, 'test_ORG_precision': 0.6774774774774774, 'test_ORG_recall': 0.7161904761904762, 'test_ORG_f1': 0.6962962962962962, 'test_ORG_number': 525, 'test_PER_precision': 0.8034188034188035, 'test_PER_recall': 0.8329113924050633, 'test_PER_f1': 0.8178993163455562, 'test_PER_number': 790, 'test_overall_precision': 0.7582361885453623, 'test_overall_recall': 0.7755313634007258, 'test_overall_f1': 0.7667862634546387, 'test_overall_accuracy': 0.9489267581561354, 'test_runtime': 17.2768, 'test_samples_per_second': 50.183, 'test_steps_per_second': 2.142}\n",
      "\n",
      " Macro f1 score:: 0.7586477818451681\n"
     ]
    }
   ],
   "source": [
    "# print(lang_specific_results)\n",
    "print(metrics)\n",
    "sum_of_f1_scores=metrics['test_LOC_f1']+metrics['test_ORG_f1']+metrics['test_PER_f1']\n",
    "macro_f1=sum_of_f1_scores/3\n",
    "print('\\n Macro f1 score::',macro_f1)"
   ]
  },
  {
   "cell_type": "code",
   "execution_count": 117,
   "metadata": {
    "execution": {
     "iopub.execute_input": "2024-03-10T13:28:12.866907Z",
     "iopub.status.busy": "2024-03-10T13:28:12.866498Z",
     "iopub.status.idle": "2024-03-10T13:28:14.735379Z",
     "shell.execute_reply": "2024-03-10T13:28:14.734580Z",
     "shell.execute_reply.started": "2024-03-10T13:28:12.866877Z"
    }
   },
   "outputs": [
    {
     "name": "stdout",
     "output_type": "stream",
     "text": [
      "[('नारायण', 'B-PER'), ('साईं', 'I-PER'), ('पर', 'O'), ('जेल', 'O'), ('में', 'O'), ('रहते', 'O'), ('हुए', 'O'), ('पुलिस', 'O'), ('कर्मचारी', 'O'), ('को', 'O'), ('13', 'O'), ('करोड़', 'O'), ('रुपए', 'O'), ('की', 'O'), ('रिश्वत', 'O'), ('देने', 'O'), ('का', 'O'), ('भी', 'O'), ('आरोप', 'O'), ('लगा', 'O'), ('था,', 'O'), ('लेकिन', 'O'), ('इस', 'O'), ('मामले', 'O'), ('में', 'O'), ('नारायण', 'B-PER'), ('साईं', 'I-PER'), ('को', 'O'), ('जमानत', 'O'), ('तो', 'O'), ('मिल', 'O'), ('चुकी', 'O'), ('है', 'O'), ('लेकिन', 'O'), ('रेप', 'O'), ('के', 'O'), ('मामले', 'O'), ('में', 'O'), ('अभी', 'O'), ('भी', 'O'), ('कोर्ट', 'O'), ('में', 'O'), ('सुनवाई', 'O'), ('चल', 'O'), ('रही', 'O'), ('है।', 'O')]\n",
      "[('इसके', 'O'), ('बाद', 'O'), ('वह', 'O'), ('अपनी', 'O'), ('मां', 'O'), ('से', 'O'), ('तब', 'O'), ('तक', 'O'), ('विडियो', 'O'), ('कॉल', 'O'), ('पर', 'O'), ('बात', 'O'), ('करने', 'O'), ('से', 'O'), ('बचती', 'O'), ('रहीं', 'O'), ('तब', 'O'), ('तक', 'O'), ('उन्होंने', 'O'), ('अपने', 'O'), ('वेट', 'O'), ('कम', 'O'), ('नहीं', 'O'), ('कर', 'O'), ('लिया।', 'O')]\n",
      "[('इससे', 'O'), ('पहले', 'O'), ('प्रिंस', 'B-PER'), ('नरुला', 'B-PER'), ('ने', 'O'), ('इस', 'O'), ('बात', 'O'), ('की', 'O'), ('पुष्टि', 'O'), ('की', 'O'), ('है', 'O'), ('कि', 'O'), ('वह', 'O'), ('शो', 'O'), ('की', 'O'), ('सहभागी', 'O'), ('एवं', 'O'), ('मोरक्को', 'B-LOC'), ('की', 'O'), ('सुंदरी', 'O'), ('नोरा', 'O'), ('फातेही', 'O'), ('के', 'O'), ('के', 'O'), ('साथ', 'O'), ('समय.', 'O'), ('.', 'O'), ('.', 'O'), ('दीप्ति', 'O'), ('अपहरण', 'O'), ('मामले', 'O'), ('पर', 'O'), ('बोले', 'O'), ('शाहरुख,', 'O'), ('लोग', 'O'), ('फिल्मों', 'O'), ('से', 'O'), ('गलत', 'O'), ('सीख', 'O'), ('लेते', 'O'), ('हैं', 'O')]\n",
      "[('अखिलेश', 'B-PER'), ('और', 'O'), ('राहुल', 'B-PER'), ('पर', 'O'), ('हमला', 'O'), ('करते', 'O'), ('हुए', 'O'), ('योगी', 'B-PER'), ('ने', 'O'), ('कहा', 'O'), ('कि', 'O'), ('शहजादे', 'B-PER'), ('और', 'O'), ('युवराज', 'B-PER'), ('का', 'O'), ('यूपी', 'O'), ('पर', 'O'), ('ध्यान', 'O'), ('नहीं', 'O'), ('जाता.', 'O')]\n",
      "[('आषाढ़', 'O'), ('माह', 'O'), ('में', 'O'), ('बारिश', 'O'), ('होने', 'O'), ('से', 'O'), ('तालाबों', 'O'), ('में', 'O'), ('मेढकाें', 'O'), ('की', 'O'), ('टर्र-टर्र', 'O'), ('सुनाई', 'O'), ('पड़ने', 'O'), ('लगती', 'O'), ('थी', 'O'), ('लेकिन', 'O'), ('इस', 'O'), ('बार', 'O'), ('बेल्हा', 'O'), ('से', 'O'), ('बादल', 'O'), ('इस', 'O'), ('कदर', 'O'), ('रूठे', 'O'), ('रहे', 'O'), ('कि', 'O'), ('मई', 'O'), ('और', 'O'), ('जून', 'O'), ('माह', 'O'), ('में', 'O'), ('सिर्फ', 'O'), ('एक', 'O'), ('मिलीमीटर', 'O'), ('बारिश', 'O'), ('हो', 'O'), ('सकी।', 'O'), ('बरसाती', 'O'), ('मेढक', 'O'), ('दिखे', 'O'), ('ही', 'O'), ('नहीं।', 'O')]\n",
      "[('जानकारी', 'O'), ('है', 'O'), ('कि', 'O'), ('प्रशांत', 'B-PER'), ('किशोर', 'I-PER'), ('ने', 'O'), ('इस', 'O'), ('काम', 'O'), ('के', 'O'), ('लिए', 'O'), ('राहुल', 'B-PER'), ('गांधी', 'I-PER'), ('से', 'O'), ('कोई', 'O'), ('भी', 'O'), ('वेतन', 'O'), ('नहीं', 'O'), ('ले', 'O'), ('रहे', 'O'), ('हैं.देवासुर', 'O'), ('संग्राम', 'O'), ('में', 'O'), ('शक्ति', 'O'), ('(नारी)', 'O'), ('ही', 'O'), ('चंडी-दुर्गा', 'O'), ('के', 'O'), ('रूप', 'O'), ('में', 'O'), ('प्रकट', 'O'), ('होती', 'O'), ('है।', 'O')]\n",
      "[('इसका', 'O'), ('दुष्प्रभाव', 'O'), ('यह', 'O'), ('है', 'O'), ('कि', 'O'), ('जनप्रतिनिधियों', 'O'), ('से', 'O'), ('महत्वपूर्ण', 'O'), ('पार्टियां', 'O'), ('हो', 'O'), ('जाती', 'O'), ('हैं.', 'O'), ('फिर', 'O'), ('पार्टी', 'O'), ('कमान', 'I-ORG'), ('कंपनी', 'O'), ('का', 'O'), ('सीइओ', 'O'), ('हो', 'O'), ('जाता', 'O'), ('है', 'O'), ('और', 'O'), ('जनप्रतिनिधि', 'O'), ('उनके', 'O'), ('द्वारा', 'O'), ('नियुक्त', 'O'), ('होते', 'O'), ('हैं,', 'O'), ('केवल', 'O'), ('औपचारिक', 'O'), ('तौर', 'O'), ('पर', 'O'), ('उनका', 'O'), ('चुनाव', 'O'), ('जनता', 'O'), ('के', 'O'), ('द्वारा', 'O'), ('होना', 'O'), ('जरूरी', 'O'), ('है.', 'O')]\n",
      "[('मुंबई:', 'B-LOC'), ('महाराष्ट्र', 'B-LOC'), ('की', 'O'), ('राजनीति', 'O'), ('में', 'O'), ('उठापटक', 'O'), ('का', 'O'), ('दौर', 'O'), ('जारी', 'O'), ('है.', 'O')]\n",
      "[('20/08/2014', 'O'), ('मुख्य', 'O'), ('अभियंता,', 'O'), ('धसान', 'O'), ('केन', 'O'), ('कछार', 'I-PER'), ('सागर', 'I-PER'), ('के', 'O'), ('अन्तर्गत', 'O'), ('गुण', 'O'), ('नियंत्रण', 'O'), ('के', 'O'), ('कार्यों', 'O'), ('को', 'O'), ('गति', 'O'), ('देने', 'O'), ('हेतु', 'O'), ('मुख्यालय', 'O'), ('परिवर्तन।', 'O')]\n",
      "[('हालांकि,', 'O'), ('पिछले', 'O'), ('साल', 'O'), ('दिसंबर', 'O'), ('से', 'O'), ('सभी', 'O'), ('टेलिकॉम', 'O'), ('कंपनियों', 'O'), ('ने', 'O'), ('अपने', 'O'), ('प्रीपेड', 'O'), ('प्लान्स', 'O'), ('में', 'O'), ('बदलाव', 'O'), ('किया', 'O'), ('था,', 'O'), ('जिसके', 'O'), ('बाद', 'O'), ('ये', 'O'), ('प्रीपेड', 'O'), ('प्लान', 'O'), ('डिसकन्टिन्यू', 'O'), ('कर', 'O'), ('दिया', 'O'), ('गया', 'O'), ('है.', 'O')]\n",
      "[('पैनासोनिक', 'B-PER'), ('ने', 'O'), ('पेश', 'O'), ('किए', 'O'), ('दो', 'O'), ('स्\\u200dमार्टफोन,', 'O'), ('कीमत', 'O'), ('है', 'O'), ('इनकी', 'O'), ('27,000', 'O'), ('रुपए', 'O'), ('तक', 'O'), ('-', 'O'), ('India', 'O'), ('TV', 'B-ORG'), ('Paisa', 'I-ORG')]\n",
      "[('एयर', 'B-ORG'), ('इंडिया', 'I-ORG'), ('को', 'O'), ('सरकार', 'O'), ('2,100', 'O'), ('करोड़', 'O'), ('रु', 'O'), ('की', 'O'), ('मदद', 'O'), ('देगी,', 'O'), ('6', 'O'), ('साल', 'O'), ('में', 'O'), ('26000', 'O'), ('करोड़', 'O'), ('मिले', 'O'), ('फिर', 'O'), ('भी', 'O'), ('नहीं', 'O'), ('सुधरी', 'O'), ('हालत', 'O')]\n",
      "[('पिछले', 'O'), ('मैच', 'O'), ('में', 'O'), ('हमारे', 'O'), ('साथ', 'O'), ('जो', 'O'), ('हुआ', 'O'), ('उससे', 'O'), ('टीम', 'O'), ('ने', 'O'), ('काफी', 'O'), ('कुछ', 'O'), ('सीखा.', 'O')]\n",
      "[('सरकारें', 'O'), ('राजनीतिक', 'O'), ('दलों', 'O'), ('की', 'O'), ('होती', 'O'), ('हैं', 'O'), ('और', 'O'), ('वे', 'O'), ('जनता', 'O'), ('के', 'O'), ('हित', 'O'), ('में', 'O'), ('कोई', 'O'), ('योजना', 'O'), ('चलाते', 'O'), ('हैं,', 'O'), ('जिनमें', 'O'), ('वायदे', 'O'), ('ही', 'O'), ('तो', 'O'), ('होते', 'O'), ('हैं।', 'O')]\n",
      "[('शपथ', 'O'), ('ग्रहण', 'O'), ('से', 'O'), ('पहले', 'O'), ('बीजेपी', 'B-ORG'), ('में', 'O'), ('बड़े', 'O'), ('बदलाव', 'O'), ('हो', 'O'), ('सकते', 'O'), ('हैं।', 'O')]\n",
      "[('युधिष्ठिर', 'B-PER'), ('की', 'O'), ('उदारता', 'O'), ('भी', 'O'), ('अलौकिक', 'O'), ('थी', 'O'), ('।', 'O'), ('जब', 'O'), ('कौरवो', 'B-PER'), ('ने', 'O'), ('किसी', 'O'), ('प्रकार', 'O'), ('भी', 'O'), ('इनका', 'O'), ('राज्य', 'O'), ('लौटाना', 'O'), ('मंजूर', 'O'), ('नहीं', 'O'), ('किया', 'O'), ('तो', 'O'), ('इन्होंने', 'O'), ('केवल', 'O'), ('पांच', 'O'), ('गांव', 'O'), ('लेकर', 'O'), ('संतोष', 'O'), ('करना', 'O'), ('स्वीकार', 'O'), ('कर', 'O'), ('लिया', 'O'), ('और', 'O'), ('भगवान्', 'O'), ('श्रीकृष्णके', 'B-PER'), ('द्वारा', 'O'), ('दुर्योधन', 'B-PER'), ('को', 'O'), ('यह', 'O'), ('कहला', 'O'), ('भेजा', 'O'), ('कि', 'O'), ('यदि', 'O'), ('वह', 'O'), ('हमें', 'O'), ('हमारे', 'O'), ('इच्छानुसार', 'O'), ('केवल', 'O'), ('पांच', 'O'), ('गांव', 'O'), ('देना', 'O'), ('मंजूर', 'O'), ('कर', 'O'), ('ले', 'O'), ('तो', 'O'), ('हम', 'O'), ('युद्ध', 'O'), ('न', 'O'), ('करे', 'O'), ('।महंत', 'O'), ('ने', 'O'), ('कहा', 'O'), ('कि', 'O'), ('अब', 'O'), ('इंतजार', 'O'), ('के', 'O'), ('अलावा', 'O'), ('कोई', 'O'), ('विकल्प', 'O'), ('भी', 'O'), ('नहीं', 'O'), ('है।', 'O')]\n",
      "[('गौरतलब', 'O'), ('है', 'O'), ('कि', 'O'), ('इस', 'O'), ('मंदिर', 'O'), ('के', 'O'), ('सामने', 'O'), ('की', 'O'), ('तरफ', 'O'), ('कुछ', 'O'), ('मीटर', 'O'), ('की', 'O'), ('दूरी', 'O'), ('पर', 'O'), ('ही', 'O'), ('पुलिस', 'O'), ('का', 'O'), ('नाका', 'O'), ('लगा', 'O'), ('रहता', 'O'), ('है।', 'O')]\n",
      "[('इस', 'O'), ('शपथ', 'O'), ('ग्रहण', 'O'), ('समारोह', 'O'), ('में', 'O'), ('इस', 'O'), ('बार', 'O'), ('एक', 'O'), ('बात', 'O'), ('यह', 'O'), ('खास', 'O'), ('है', 'O'), ('कि', 'O'), ('पाकिस्\\u200dतान', 'O'), ('के', 'O'), ('पीएम', 'O'), ('इमरान', 'O'), ('खान', 'B-PER'), ('को', 'I-PER'), ('न्\\u200dयोता', 'O'), ('नहीं', 'O'), ('दिया', 'O'), ('गया', 'O'), ('है।', 'O')]\n",
      "[('इसी', 'O'), ('वजह', 'O'), ('से', 'O'), ('मिठाई', 'O'), ('की', 'O'), ('जगह', 'O'), ('पर', 'O'), ('लोगों', 'O'), ('ने', 'O'), ('उपहार', 'O'), ('देने', 'O'), ('के', 'O'), ('लिए', 'O'), ('ड्राई', 'O'), ('फ्रूट्स', 'O'), ('और', 'O'), ('चौकलेट', 'O'), ('का', 'O'), ('प्रयोग', 'O'), ('करना', 'O'), ('शुरू', 'O'), ('किया.', 'O')]\n",
      "[('उनका', 'O'), ('कहना', 'O'), ('है', 'O'), ('कि', 'O'), ('प्रदर्शन', 'O'), ('के', 'O'), ('विश्लेषण', 'O'), ('के', 'O'), ('लिहाज', 'O'), ('से', 'O'), ('कम', 'O'), ('से', 'O'), ('कम', 'O'), ('3-5', 'O'), ('साल', 'O'), ('का', 'O'), ('नजरिया', 'O'), ('रखा', 'O'), ('जाना', 'O'), ('चाहिए।', 'O')]\n",
      "[('रेंजर्स', 'B-PER'), ('ने', 'O'), ('मशहूर', 'O'), ('पर्यटक', 'O'), ('स्थल', 'O'), ('टाफ्ट', 'B-LOC'), ('प्वाइंट', 'I-LOC'), ('से', 'O'), ('नीचे', 'O'), ('गुरुवार', 'O'), ('को', 'O'), ('दुर्गम', 'O'), ('इलाके', 'O'), ('से', 'O'), ('उनके', 'O'), ('शव', 'O'), ('बरामद', 'O'), ('किये।', 'O'), ('टाफ्ट', 'B-LOC'), ('प्वाइंट', 'I-LOC'), ('से', 'O'), ('योसेमिटी', 'B-LOC'), ('घाटी', 'I-LOC'), ('का', 'O'), ('मनोरम', 'O'), ('दृश्य', 'O'), ('देखने', 'O'), ('को', 'O'), ('मिलता', 'O'), ('है।', 'O')]\n",
      "[('इसके', 'O'), ('पहले', 'O'), ('अपने', 'O'), ('बयान', 'O'), ('पर', 'O'), ('सफाई', 'O'), ('देते', 'O'), ('हुए', 'O'), ('प्रज्ञा', 'B-PER'), ('सिंह', 'I-PER'), ('ठाकुर', 'I-PER'), ('ने', 'O'), ('ट्वीट', 'O'), ('किया,', 'O'), ('कभी-2', 'O'), ('झूठ', 'O'), ('का', 'O'), ('बबण्डर', 'O'), ('इतना', 'O'), ('गहरा', 'O'), ('होता', 'O'), ('है', 'O'), ('कि', 'O'), ('दिन', 'O'), ('मे', 'O'), ('भी', 'O'), ('रात', 'O'), ('लगने', 'O'), ('लगती', 'O'), ('है', 'O'), ('किन्तु', 'O'), ('सूर्य', 'O'), ('अपना', 'O'), ('प्रकाश', 'O'), ('नहीं', 'O'), ('खोता', 'O'), ('पलभर', 'O'), ('के', 'O'), ('बबण्डर', 'O'), ('मे', 'O'), ('लोग', 'O'), ('भ्रमित', 'O'), ('न', 'O'), ('हों', 'O'), ('सूर्य', 'O'), ('का', 'O'), ('प्रकाश', 'O'), ('स्थाई', 'O'), ('है।शायद', 'O'), ('हमें', 'O'), ('कभी', 'O'), ('ना', 'O'), ('पता', 'O'), ('चले', 'O'), ('लेकिन', 'O'), ('यह', 'O'), ('बहुत', 'O'), ('दुखद', 'O'), ('घटना', 'O'), ('है।', 'O'), ('खबर', 'O'), ('में', 'O'), ('बताया', 'O'), ('गया', 'O'), ('है', 'O'), ('कि', 'O'), ('दोनों', 'O'), ('2014', 'O'), ('से', 'O'), ('शादीशुदा', 'O'), ('थे', 'O'), ('और', 'O'), ('दोनों', 'O'), ('सॉफ्टवेयर', 'O'), ('इंजीनियर', 'O'), ('थे।', 'O')]\n"
     ]
    }
   ],
   "source": [
    "sentences=['नारायण साईं पर जेल में रहते हुए पुलिस कर्मचारी को 13 करोड़ रुपए की रिश्वत देने का भी आरोप लगा था, लेकिन इस मामले में नारायण साईं को जमानत तो मिल चुकी है लेकिन रेप के मामले में अभी भी कोर्ट में सुनवाई चल रही है।',\n",
    "           'इसके बाद वह अपनी मां से तब तक विडियो कॉल पर बात करने से बचती रहीं तब तक उन्होंने अपने वेट कम नहीं कर लिया।',\n",
    "           'इससे पहले प्रिंस नरुला ने इस बात की पुष्टि की है कि वह शो की सहभागी एवं मोरक्को की सुंदरी नोरा फातेही के के साथ समय. . . दीप्ति अपहरण मामले पर बोले शाहरुख, लोग फिल्मों से गलत सीख लेते हैं',\n",
    "           'अखिलेश और राहुल पर हमला करते हुए योगी ने कहा कि शहजादे और युवराज का यूपी पर ध्यान नहीं जाता.',\n",
    "           'आषाढ़ माह में बारिश होने से तालाबों में मेढकाें की टर्र-टर्र सुनाई पड़ने लगती थी लेकिन इस बार बेल्हा से बादल इस कदर रूठे रहे कि मई और जून माह में सिर्फ एक मिलीमीटर बारिश हो सकी। बरसाती मेढक दिखे ही नहीं।',\n",
    "           'जानकारी है कि प्रशांत किशोर ने इस काम के लिए राहुल गांधी से कोई भी वेतन नहीं ले रहे हैं.'\n",
    "           'देवासुर संग्राम में शक्ति (नारी) ही चंडी-दुर्गा के रूप में प्रकट होती है।',\n",
    "           'इसका दुष्प्रभाव यह है कि जनप्रतिनिधियों से महत्वपूर्ण पार्टियां हो जाती हैं. फिर पार्टी कमान कंपनी का सीइओ हो जाता है और जनप्रतिनिधि उनके द्वारा नियुक्त होते हैं, केवल औपचारिक तौर पर उनका चुनाव जनता के द्वारा होना जरूरी है.',\n",
    "           'मुंबई: महाराष्ट्र की राजनीति में उठापटक का दौर जारी है.',\n",
    "           '20/08/2014 मुख्य अभियंता, धसान केन कछार सागर के अन्तर्गत गुण नियंत्रण के कार्यों को गति देने हेतु मुख्यालय परिवर्तन।',\n",
    "           'हालांकि, पिछले साल दिसंबर से सभी टेलिकॉम कंपनियों ने अपने प्रीपेड प्लान्स में बदलाव किया था, जिसके बाद ये प्रीपेड प्लान डिसकन्टिन्यू कर दिया गया है.',\n",
    "           'पैनासोनिक ने पेश किए दो स्‍मार्टफोन, कीमत है इनकी 27,000 रुपए तक - India TV Paisa',\n",
    "           'एयर इंडिया को सरकार 2,100 करोड़ रु की मदद देगी, 6 साल में 26000 करोड़ मिले फिर भी नहीं सुधरी हालत',\n",
    "           'पिछले मैच में हमारे साथ जो हुआ उससे टीम ने काफी कुछ सीखा.',\n",
    "           'सरकारें राजनीतिक दलों की होती हैं और वे जनता के हित में कोई योजना चलाते हैं, जिनमें वायदे ही तो होते हैं।',\n",
    "           'शपथ ग्रहण से पहले बीजेपी में बड़े बदलाव हो सकते हैं।',\n",
    "           'युधिष्ठिर की उदारता भी अलौकिक थी । जब कौरवो ने किसी प्रकार भी इनका राज्य लौटाना मंजूर नहीं किया तो इन्होंने केवल पांच गांव लेकर संतोष करना स्वीकार कर लिया और भगवान् श्रीकृष्णके द्वारा दुर्योधन को यह कहला भेजा कि यदि वह हमें हमारे इच्छानुसार केवल पांच गांव देना मंजूर कर ले तो हम युद्ध न करे ।'\n",
    "           'महंत ने कहा कि अब इंतजार के अलावा कोई विकल्प भी नहीं है।',\n",
    "           'गौरतलब है कि इस मंदिर के सामने की तरफ कुछ मीटर की दूरी पर ही पुलिस का नाका लगा रहता है।',\n",
    "           'इस शपथ ग्रहण समारोह में इस बार एक बात यह खास है कि पाकिस्‍तान के पीएम इमरान खान को न्‍योता नहीं दिया गया है।',\n",
    "           'इसी वजह से मिठाई की जगह पर लोगों ने उपहार देने के लिए ड्राई फ्रूट्स और चौकलेट का प्रयोग करना शुरू किया.',\n",
    "           'उनका कहना है कि प्रदर्शन के विश्लेषण के लिहाज से कम से कम 3-5 साल का नजरिया रखा जाना चाहिए।',\n",
    "           'रेंजर्स ने मशहूर पर्यटक स्थल टाफ्ट प्वाइंट से नीचे गुरुवार को दुर्गम इलाके से उनके शव बरामद किये। टाफ्ट प्वाइंट से योसेमिटी घाटी का मनोरम दृश्य देखने को मिलता है।',\n",
    "           'इसके पहले अपने बयान पर सफाई देते हुए प्रज्ञा सिंह ठाकुर ने ट्वीट किया, कभी-2 झूठ का बबण्डर इतना गहरा होता है कि दिन मे भी रात लगने लगती है किन्तु सूर्य अपना प्रकाश नहीं खोता पलभर के बबण्डर मे लोग भ्रमित न हों सूर्य का प्रकाश स्थाई है।'\n",
    "           'शायद हमें कभी ना पता चले लेकिन यह बहुत दुखद घटना है। खबर में बताया गया है कि दोनों 2014 से शादीशुदा थे और दोनों सॉफ्टवेयर इंजीनियर थे।'\n",
    "          ]\n",
    "           \n",
    "for line in sentences:\n",
    "    output=get_ner(line)\n",
    "    print(output)\n",
    "    \n",
    "           \n",
    "           \n",
    "           "
   ]
  }
 ],
 "metadata": {
  "kaggle": {
   "accelerator": "nvidiaTeslaT4",
   "dataSources": [],
   "dockerImageVersionId": 30665,
   "isGpuEnabled": true,
   "isInternetEnabled": true,
   "language": "python",
   "sourceType": "notebook"
  },
  "kernelspec": {
   "display_name": "Python 3 (ipykernel)",
   "language": "python",
   "name": "python3"
  },
  "language_info": {
   "codemirror_mode": {
    "name": "ipython",
    "version": 3
   },
   "file_extension": ".py",
   "mimetype": "text/x-python",
   "name": "python",
   "nbconvert_exporter": "python",
   "pygments_lexer": "ipython3",
   "version": "3.12.2"
  }
 },
 "nbformat": 4,
 "nbformat_minor": 4
}
