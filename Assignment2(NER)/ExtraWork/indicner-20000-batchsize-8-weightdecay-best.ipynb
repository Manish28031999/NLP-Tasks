{
 "cells": [
  {
   "cell_type": "code",
   "execution_count": 1,
   "metadata": {
    "execution": {
     "iopub.execute_input": "2024-03-13T04:29:40.184059Z",
     "iopub.status.busy": "2024-03-13T04:29:40.183761Z",
     "iopub.status.idle": "2024-03-13T04:30:35.408096Z",
     "shell.execute_reply": "2024-03-13T04:30:35.407101Z",
     "shell.execute_reply.started": "2024-03-13T04:29:40.184034Z"
    }
   },
   "outputs": [
    {
     "name": "stdout",
     "output_type": "stream",
     "text": [
      "Requirement already satisfied: transformers in /opt/conda/lib/python3.10/site-packages (4.38.1)\n",
      "Requirement already satisfied: filelock in /opt/conda/lib/python3.10/site-packages (from transformers) (3.13.1)\n",
      "Requirement already satisfied: huggingface-hub<1.0,>=0.19.3 in /opt/conda/lib/python3.10/site-packages (from transformers) (0.20.3)\n",
      "Requirement already satisfied: numpy>=1.17 in /opt/conda/lib/python3.10/site-packages (from transformers) (1.26.4)\n",
      "Requirement already satisfied: packaging>=20.0 in /opt/conda/lib/python3.10/site-packages (from transformers) (21.3)\n",
      "Requirement already satisfied: pyyaml>=5.1 in /opt/conda/lib/python3.10/site-packages (from transformers) (6.0.1)\n",
      "Requirement already satisfied: regex!=2019.12.17 in /opt/conda/lib/python3.10/site-packages (from transformers) (2023.12.25)\n",
      "Requirement already satisfied: requests in /opt/conda/lib/python3.10/site-packages (from transformers) (2.31.0)\n",
      "Requirement already satisfied: tokenizers<0.19,>=0.14 in /opt/conda/lib/python3.10/site-packages (from transformers) (0.15.2)\n",
      "Requirement already satisfied: safetensors>=0.4.1 in /opt/conda/lib/python3.10/site-packages (from transformers) (0.4.2)\n",
      "Requirement already satisfied: tqdm>=4.27 in /opt/conda/lib/python3.10/site-packages (from transformers) (4.66.1)\n",
      "Requirement already satisfied: fsspec>=2023.5.0 in /opt/conda/lib/python3.10/site-packages (from huggingface-hub<1.0,>=0.19.3->transformers) (2024.2.0)\n",
      "Requirement already satisfied: typing-extensions>=3.7.4.3 in /opt/conda/lib/python3.10/site-packages (from huggingface-hub<1.0,>=0.19.3->transformers) (4.9.0)\n",
      "Requirement already satisfied: pyparsing!=3.0.5,>=2.0.2 in /opt/conda/lib/python3.10/site-packages (from packaging>=20.0->transformers) (3.1.1)\n",
      "Requirement already satisfied: charset-normalizer<4,>=2 in /opt/conda/lib/python3.10/site-packages (from requests->transformers) (3.3.2)\n",
      "Requirement already satisfied: idna<4,>=2.5 in /opt/conda/lib/python3.10/site-packages (from requests->transformers) (3.6)\n",
      "Requirement already satisfied: urllib3<3,>=1.21.1 in /opt/conda/lib/python3.10/site-packages (from requests->transformers) (1.26.18)\n",
      "Requirement already satisfied: certifi>=2017.4.17 in /opt/conda/lib/python3.10/site-packages (from requests->transformers) (2024.2.2)\n",
      "Requirement already satisfied: datasets in /opt/conda/lib/python3.10/site-packages (2.1.0)\n",
      "Requirement already satisfied: numpy>=1.17 in /opt/conda/lib/python3.10/site-packages (from datasets) (1.26.4)\n",
      "Requirement already satisfied: pyarrow>=5.0.0 in /opt/conda/lib/python3.10/site-packages (from datasets) (11.0.0)\n",
      "Requirement already satisfied: dill in /opt/conda/lib/python3.10/site-packages (from datasets) (0.3.8)\n",
      "Requirement already satisfied: pandas in /opt/conda/lib/python3.10/site-packages (from datasets) (2.1.4)\n",
      "Requirement already satisfied: requests>=2.19.0 in /opt/conda/lib/python3.10/site-packages (from datasets) (2.31.0)\n",
      "Requirement already satisfied: tqdm>=4.62.1 in /opt/conda/lib/python3.10/site-packages (from datasets) (4.66.1)\n",
      "Requirement already satisfied: xxhash in /opt/conda/lib/python3.10/site-packages (from datasets) (3.4.1)\n",
      "Requirement already satisfied: multiprocess in /opt/conda/lib/python3.10/site-packages (from datasets) (0.70.16)\n",
      "Requirement already satisfied: fsspec>=2021.05.0 in /opt/conda/lib/python3.10/site-packages (from fsspec[http]>=2021.05.0->datasets) (2024.2.0)\n",
      "Requirement already satisfied: aiohttp in /opt/conda/lib/python3.10/site-packages (from datasets) (3.9.1)\n",
      "Requirement already satisfied: huggingface-hub<1.0.0,>=0.1.0 in /opt/conda/lib/python3.10/site-packages (from datasets) (0.20.3)\n",
      "Requirement already satisfied: packaging in /opt/conda/lib/python3.10/site-packages (from datasets) (21.3)\n",
      "Requirement already satisfied: responses<0.19 in /opt/conda/lib/python3.10/site-packages (from datasets) (0.18.0)\n",
      "Requirement already satisfied: attrs>=17.3.0 in /opt/conda/lib/python3.10/site-packages (from aiohttp->datasets) (23.2.0)\n",
      "Requirement already satisfied: multidict<7.0,>=4.5 in /opt/conda/lib/python3.10/site-packages (from aiohttp->datasets) (6.0.4)\n",
      "Requirement already satisfied: yarl<2.0,>=1.0 in /opt/conda/lib/python3.10/site-packages (from aiohttp->datasets) (1.9.3)\n",
      "Requirement already satisfied: frozenlist>=1.1.1 in /opt/conda/lib/python3.10/site-packages (from aiohttp->datasets) (1.4.1)\n",
      "Requirement already satisfied: aiosignal>=1.1.2 in /opt/conda/lib/python3.10/site-packages (from aiohttp->datasets) (1.3.1)\n",
      "Requirement already satisfied: async-timeout<5.0,>=4.0 in /opt/conda/lib/python3.10/site-packages (from aiohttp->datasets) (4.0.3)\n",
      "Requirement already satisfied: filelock in /opt/conda/lib/python3.10/site-packages (from huggingface-hub<1.0.0,>=0.1.0->datasets) (3.13.1)\n",
      "Requirement already satisfied: pyyaml>=5.1 in /opt/conda/lib/python3.10/site-packages (from huggingface-hub<1.0.0,>=0.1.0->datasets) (6.0.1)\n",
      "Requirement already satisfied: typing-extensions>=3.7.4.3 in /opt/conda/lib/python3.10/site-packages (from huggingface-hub<1.0.0,>=0.1.0->datasets) (4.9.0)\n",
      "Requirement already satisfied: pyparsing!=3.0.5,>=2.0.2 in /opt/conda/lib/python3.10/site-packages (from packaging->datasets) (3.1.1)\n",
      "Requirement already satisfied: charset-normalizer<4,>=2 in /opt/conda/lib/python3.10/site-packages (from requests>=2.19.0->datasets) (3.3.2)\n",
      "Requirement already satisfied: idna<4,>=2.5 in /opt/conda/lib/python3.10/site-packages (from requests>=2.19.0->datasets) (3.6)\n",
      "Requirement already satisfied: urllib3<3,>=1.21.1 in /opt/conda/lib/python3.10/site-packages (from requests>=2.19.0->datasets) (1.26.18)\n",
      "Requirement already satisfied: certifi>=2017.4.17 in /opt/conda/lib/python3.10/site-packages (from requests>=2.19.0->datasets) (2024.2.2)\n",
      "Requirement already satisfied: python-dateutil>=2.8.2 in /opt/conda/lib/python3.10/site-packages (from pandas->datasets) (2.8.2)\n",
      "Requirement already satisfied: pytz>=2020.1 in /opt/conda/lib/python3.10/site-packages (from pandas->datasets) (2023.3.post1)\n",
      "Requirement already satisfied: tzdata>=2022.1 in /opt/conda/lib/python3.10/site-packages (from pandas->datasets) (2023.4)\n",
      "Requirement already satisfied: six>=1.5 in /opt/conda/lib/python3.10/site-packages (from python-dateutil>=2.8.2->pandas->datasets) (1.16.0)\n",
      "Requirement already satisfied: sentencepiece in /opt/conda/lib/python3.10/site-packages (0.2.0)\n",
      "Collecting seqeval\n",
      "  Downloading seqeval-1.2.2.tar.gz (43 kB)\n",
      "\u001b[2K     \u001b[90m━━━━━━━━━━━━━━━━━━━━━━━━━━━━━━━━━━━━━━━\u001b[0m \u001b[32m43.6/43.6 kB\u001b[0m \u001b[31m631.6 kB/s\u001b[0m eta \u001b[36m0:00:00\u001b[0m \u001b[36m0:00:01\u001b[0m\n",
      "\u001b[?25h  Preparing metadata (setup.py) ... \u001b[?25ldone\n",
      "\u001b[?25hRequirement already satisfied: numpy>=1.14.0 in /opt/conda/lib/python3.10/site-packages (from seqeval) (1.26.4)\n",
      "Requirement already satisfied: scikit-learn>=0.21.3 in /opt/conda/lib/python3.10/site-packages (from seqeval) (1.2.2)\n",
      "Requirement already satisfied: scipy>=1.3.2 in /opt/conda/lib/python3.10/site-packages (from scikit-learn>=0.21.3->seqeval) (1.11.4)\n",
      "Requirement already satisfied: joblib>=1.1.1 in /opt/conda/lib/python3.10/site-packages (from scikit-learn>=0.21.3->seqeval) (1.3.2)\n",
      "Requirement already satisfied: threadpoolctl>=2.0.0 in /opt/conda/lib/python3.10/site-packages (from scikit-learn>=0.21.3->seqeval) (3.2.0)\n",
      "Building wheels for collected packages: seqeval\n",
      "  Building wheel for seqeval (setup.py) ... \u001b[?25ldone\n",
      "\u001b[?25h  Created wheel for seqeval: filename=seqeval-1.2.2-py3-none-any.whl size=16162 sha256=b3539e46a074e66f7d0d7568aebabd3ab4895b280ca00c7b26e90cd00b713e36\n",
      "  Stored in directory: /root/.cache/pip/wheels/1a/67/4a/ad4082dd7dfc30f2abfe4d80a2ed5926a506eb8a972b4767fa\n",
      "Successfully built seqeval\n",
      "Installing collected packages: seqeval\n",
      "Successfully installed seqeval-1.2.2\n"
     ]
    }
   ],
   "source": [
    "!pip3 install transformers\n",
    "!pip3 install datasets\n",
    "!pip3 install sentencepiece\n",
    "!pip install seqeval"
   ]
  },
  {
   "cell_type": "code",
   "execution_count": 2,
   "metadata": {
    "execution": {
     "iopub.execute_input": "2024-03-13T04:31:01.234873Z",
     "iopub.status.busy": "2024-03-13T04:31:01.234146Z",
     "iopub.status.idle": "2024-03-13T04:34:30.719275Z",
     "shell.execute_reply": "2024-03-13T04:34:30.718423Z",
     "shell.execute_reply.started": "2024-03-13T04:31:01.234837Z"
    }
   },
   "outputs": [
    {
     "data": {
      "application/vnd.jupyter.widget-view+json": {
       "model_id": "e4c22411fca54d54ae20d2a11b408281",
       "version_major": 2,
       "version_minor": 0
      },
      "text/plain": [
       "Downloading builder script:   0%|          | 0.00/2.86k [00:00<?, ?B/s]"
      ]
     },
     "metadata": {},
     "output_type": "display_data"
    },
    {
     "name": "stdout",
     "output_type": "stream",
     "text": [
      "Downloading and preparing dataset naamapadam_pr/hi to /root/.cache/huggingface/datasets/ai4bharat___naamapadam_pr/hi/1.0.0/99b5ec77eabfaa3fbff510d8cf70d7c34519486cb7dbee99ede19474ddff9b20...\n"
     ]
    },
    {
     "data": {
      "application/vnd.jupyter.widget-view+json": {
       "model_id": "fe2a77dd98c946ef9b2849c1625f2906",
       "version_major": 2,
       "version_minor": 0
      },
      "text/plain": [
       "Downloading data:   0%|          | 0.00/82.3M [00:00<?, ?B/s]"
      ]
     },
     "metadata": {},
     "output_type": "display_data"
    },
    {
     "data": {
      "application/vnd.jupyter.widget-view+json": {
       "model_id": "",
       "version_major": 2,
       "version_minor": 0
      },
      "text/plain": [
       "Generating train split: 0 examples [00:00, ? examples/s]"
      ]
     },
     "metadata": {},
     "output_type": "display_data"
    },
    {
     "data": {
      "application/vnd.jupyter.widget-view+json": {
       "model_id": "",
       "version_major": 2,
       "version_minor": 0
      },
      "text/plain": [
       "Generating test split: 0 examples [00:00, ? examples/s]"
      ]
     },
     "metadata": {},
     "output_type": "display_data"
    },
    {
     "data": {
      "application/vnd.jupyter.widget-view+json": {
       "model_id": "",
       "version_major": 2,
       "version_minor": 0
      },
      "text/plain": [
       "Generating validation split: 0 examples [00:00, ? examples/s]"
      ]
     },
     "metadata": {},
     "output_type": "display_data"
    },
    {
     "name": "stdout",
     "output_type": "stream",
     "text": [
      "Dataset naamapadam_pr downloaded and prepared to /root/.cache/huggingface/datasets/ai4bharat___naamapadam_pr/hi/1.0.0/99b5ec77eabfaa3fbff510d8cf70d7c34519486cb7dbee99ede19474ddff9b20. Subsequent calls will reuse this data.\n"
     ]
    },
    {
     "data": {
      "application/vnd.jupyter.widget-view+json": {
       "model_id": "76b4de44bf794aa0986c046d683b1933",
       "version_major": 2,
       "version_minor": 0
      },
      "text/plain": [
       "  0%|          | 0/3 [00:00<?, ?it/s]"
      ]
     },
     "metadata": {},
     "output_type": "display_data"
    }
   ],
   "source": [
    "# Let's download the Naampadam (Indic NER) dataset\n",
    "from datasets import ClassLabel, load_dataset, load_metric, DownloadMode\n",
    "\n",
    "lang='hi'\n",
    "\n",
    "raw_datasets = load_dataset('ai4bharat/naamapadam', lang)"
   ]
  },
  {
   "cell_type": "code",
   "execution_count": 3,
   "metadata": {
    "execution": {
     "iopub.execute_input": "2024-03-13T04:34:36.799184Z",
     "iopub.status.busy": "2024-03-13T04:34:36.798131Z",
     "iopub.status.idle": "2024-03-13T04:34:36.804706Z",
     "shell.execute_reply": "2024-03-13T04:34:36.803741Z",
     "shell.execute_reply.started": "2024-03-13T04:34:36.799149Z"
    }
   },
   "outputs": [
    {
     "name": "stdout",
     "output_type": "stream",
     "text": [
      "['tokens', 'ner_tags']\n",
      "{'tokens': Sequence(feature=Value(dtype='string', id=None), length=-1, id=None), 'ner_tags': Sequence(feature=ClassLabel(num_classes=7, names=['O', 'B-PER', 'I-PER', 'B-ORG', 'I-ORG', 'B-LOC', 'I-LOC'], id=None), length=-1, id=None)}\n"
     ]
    }
   ],
   "source": [
    "column_names = raw_datasets[\"train\"].column_names\n",
    "print(column_names)\n",
    "\n",
    "features = raw_datasets[\"train\"].features\n",
    "print(features)"
   ]
  },
  {
   "cell_type": "code",
   "execution_count": 4,
   "metadata": {
    "execution": {
     "iopub.execute_input": "2024-03-13T04:34:40.457602Z",
     "iopub.status.busy": "2024-03-13T04:34:40.457257Z",
     "iopub.status.idle": "2024-03-13T04:34:40.463554Z",
     "shell.execute_reply": "2024-03-13T04:34:40.462730Z",
     "shell.execute_reply.started": "2024-03-13T04:34:40.457577Z"
    }
   },
   "outputs": [
    {
     "name": "stdout",
     "output_type": "stream",
     "text": [
      "{'O': 0, 'B-PER': 1, 'I-PER': 2, 'B-ORG': 3, 'I-ORG': 4, 'B-LOC': 5, 'I-LOC': 6}\n"
     ]
    }
   ],
   "source": [
    "text_column_name = \"tokens\"\n",
    "label_column_name = \"ner_tags\"\n",
    "label_list = features[label_column_name].feature.names\n",
    "\n",
    "label_to_id = {label_list[i]: features[label_column_name].feature.str2int( label_list[i] ) for i in range(len(label_list))}\n",
    "\n",
    "print(label_to_id)\n",
    "\n",
    "num_labels = len(label_list)"
   ]
  },
  {
   "cell_type": "code",
   "execution_count": 5,
   "metadata": {
    "execution": {
     "iopub.execute_input": "2024-03-13T04:34:44.655909Z",
     "iopub.status.busy": "2024-03-13T04:34:44.655533Z",
     "iopub.status.idle": "2024-03-13T04:35:09.324593Z",
     "shell.execute_reply": "2024-03-13T04:35:09.323766Z",
     "shell.execute_reply.started": "2024-03-13T04:34:44.655878Z"
    }
   },
   "outputs": [
    {
     "name": "stderr",
     "output_type": "stream",
     "text": [
      "2024-03-13 04:34:54.561561: E external/local_xla/xla/stream_executor/cuda/cuda_dnn.cc:9261] Unable to register cuDNN factory: Attempting to register factory for plugin cuDNN when one has already been registered\n",
      "2024-03-13 04:34:54.561664: E external/local_xla/xla/stream_executor/cuda/cuda_fft.cc:607] Unable to register cuFFT factory: Attempting to register factory for plugin cuFFT when one has already been registered\n",
      "2024-03-13 04:34:54.736243: E external/local_xla/xla/stream_executor/cuda/cuda_blas.cc:1515] Unable to register cuBLAS factory: Attempting to register factory for plugin cuBLAS when one has already been registered\n"
     ]
    },
    {
     "data": {
      "application/vnd.jupyter.widget-view+json": {
       "model_id": "7b8ce2897a6946caa395b227167b5a70",
       "version_major": 2,
       "version_minor": 0
      },
      "text/plain": [
       "config.json:   0%|          | 0.00/1.19k [00:00<?, ?B/s]"
      ]
     },
     "metadata": {},
     "output_type": "display_data"
    },
    {
     "data": {
      "application/vnd.jupyter.widget-view+json": {
       "model_id": "ede279f2aa0543db8a0500ef0885288c",
       "version_major": 2,
       "version_minor": 0
      },
      "text/plain": [
       "tokenizer_config.json:   0%|          | 0.00/346 [00:00<?, ?B/s]"
      ]
     },
     "metadata": {},
     "output_type": "display_data"
    },
    {
     "data": {
      "application/vnd.jupyter.widget-view+json": {
       "model_id": "26ab5475c55c40b48a6a12974fadd4b4",
       "version_major": 2,
       "version_minor": 0
      },
      "text/plain": [
       "vocab.txt:   0%|          | 0.00/872k [00:00<?, ?B/s]"
      ]
     },
     "metadata": {},
     "output_type": "display_data"
    },
    {
     "data": {
      "application/vnd.jupyter.widget-view+json": {
       "model_id": "8fc257a1ec7a45d7b3974b1d6f47072b",
       "version_major": 2,
       "version_minor": 0
      },
      "text/plain": [
       "tokenizer.json:   0%|          | 0.00/1.72M [00:00<?, ?B/s]"
      ]
     },
     "metadata": {},
     "output_type": "display_data"
    },
    {
     "data": {
      "application/vnd.jupyter.widget-view+json": {
       "model_id": "b879f3aef1d043a2bee2ad2d8120e5c5",
       "version_major": 2,
       "version_minor": 0
      },
      "text/plain": [
       "special_tokens_map.json:   0%|          | 0.00/112 [00:00<?, ?B/s]"
      ]
     },
     "metadata": {},
     "output_type": "display_data"
    },
    {
     "data": {
      "application/vnd.jupyter.widget-view+json": {
       "model_id": "62e94b3cc49e4efea44b0a225d184e66",
       "version_major": 2,
       "version_minor": 0
      },
      "text/plain": [
       "pytorch_model.bin:   0%|          | 0.00/667M [00:00<?, ?B/s]"
      ]
     },
     "metadata": {},
     "output_type": "display_data"
    },
    {
     "name": "stderr",
     "output_type": "stream",
     "text": [
      "/opt/conda/lib/python3.10/site-packages/torch/_utils.py:831: UserWarning: TypedStorage is deprecated. It will be removed in the future and UntypedStorage will be the only storage class. This should only matter to you if you are using storages directly.  To access UntypedStorage directly, use tensor.untyped_storage() instead of tensor.storage()\n",
      "  return self.fget.__get__(instance, owner)()\n"
     ]
    }
   ],
   "source": [
    "from transformers import AutoModelForTokenClassification, AutoConfig, AutoTokenizer, TrainingArguments, Trainer, DataCollatorForTokenClassification, EarlyStoppingCallback, IntervalStrategy\n",
    "import numpy as np\n",
    "\n",
    "config = AutoConfig.from_pretrained('ai4bharat/IndicNER', num_labels=num_labels, finetuning_task='ner')\n",
    "tokenizer = AutoTokenizer.from_pretrained(\"ai4bharat/IndicNER\")\n",
    "model = AutoModelForTokenClassification.from_pretrained('ai4bharat/IndicNER', num_labels=num_labels )"
   ]
  },
  {
   "cell_type": "code",
   "execution_count": 6,
   "metadata": {
    "execution": {
     "iopub.execute_input": "2024-03-13T04:35:30.819461Z",
     "iopub.status.busy": "2024-03-13T04:35:30.818756Z",
     "iopub.status.idle": "2024-03-13T04:35:31.230873Z",
     "shell.execute_reply": "2024-03-13T04:35:31.230075Z",
     "shell.execute_reply.started": "2024-03-13T04:35:30.819430Z"
    }
   },
   "outputs": [],
   "source": [
    "model=model.to(\"cuda\")"
   ]
  },
  {
   "cell_type": "code",
   "execution_count": 7,
   "metadata": {
    "execution": {
     "iopub.execute_input": "2024-03-13T04:35:33.611598Z",
     "iopub.status.busy": "2024-03-13T04:35:33.611226Z",
     "iopub.status.idle": "2024-03-13T04:35:33.619517Z",
     "shell.execute_reply": "2024-03-13T04:35:33.618611Z",
     "shell.execute_reply.started": "2024-03-13T04:35:33.611568Z"
    }
   },
   "outputs": [],
   "source": [
    "# Tokenize all texts and align the labels with them.\n",
    "padding = \"max_length\"\n",
    "def tokenize_and_align_labels(examples):\n",
    "    tokenized_inputs = tokenizer(\n",
    "        examples[text_column_name],\n",
    "        padding=padding,\n",
    "        truncation=True,\n",
    "        max_length=512,\n",
    "        # We use this argument because the texts in our dataset are lists of words (with a label for each word).\n",
    "        is_split_into_words=True,\n",
    "    )\n",
    "    labels = []\n",
    "    for i, label in enumerate(examples[label_column_name]):\n",
    "        # print('=====')\n",
    "        # print('{} {}'.format(i,label)) #ak\n",
    "        word_ids = tokenized_inputs.word_ids(batch_index=i)\n",
    "        \n",
    "        previous_word_idx = None\n",
    "        label_ids = []\n",
    "        for word_idx in word_ids:\n",
    "            # Special tokens have a word id that is None. We set the label to -100 so they are automatically\n",
    "            # ignored in the loss function.\n",
    "            if word_idx is None:\n",
    "                label_ids.append(-100)\n",
    "            # We set the label for the first token of each word.\n",
    "            elif word_idx != previous_word_idx:\n",
    "                label_ids.append(label[word_idx])\n",
    "            # For the other tokens in a word, we set the label to either the current label or -100, depending on\n",
    "            # the label_all_tokens flag.\n",
    "            else:\n",
    "                label_ids.append(-100)\n",
    "            previous_word_idx = word_idx\n",
    "\n",
    "        labels.append(label_ids)\n",
    "    tokenized_inputs[\"labels\"] = labels\n",
    "    return tokenized_inputs"
   ]
  },
  {
   "cell_type": "code",
   "execution_count": 8,
   "metadata": {
    "execution": {
     "iopub.execute_input": "2024-03-13T04:35:38.795721Z",
     "iopub.status.busy": "2024-03-13T04:35:38.795346Z",
     "iopub.status.idle": "2024-03-13T04:35:46.325742Z",
     "shell.execute_reply": "2024-03-13T04:35:46.324527Z",
     "shell.execute_reply.started": "2024-03-13T04:35:38.795692Z"
    }
   },
   "outputs": [
    {
     "name": "stdout",
     "output_type": "stream",
     "text": [
      "      "
     ]
    },
    {
     "data": {
      "application/vnd.jupyter.widget-view+json": {
       "model_id": "e92b7a37643d4e8abbb8a74ad600c801",
       "version_major": 2,
       "version_minor": 0
      },
      "text/plain": [
       "Running tokenizer on train dataset #0:   0%|          | 0/5 [00:00<?, ?ba/s]"
      ]
     },
     "metadata": {},
     "output_type": "display_data"
    },
    {
     "name": "stdout",
     "output_type": "stream",
     "text": [
      "  "
     ]
    },
    {
     "data": {
      "application/vnd.jupyter.widget-view+json": {
       "model_id": "0abb95617c154fed862a7283163de2ab",
       "version_major": 2,
       "version_minor": 0
      },
      "text/plain": [
       "Running tokenizer on train dataset #1:   0%|          | 0/5 [00:00<?, ?ba/s]"
      ]
     },
     "metadata": {},
     "output_type": "display_data"
    },
    {
     "data": {
      "application/vnd.jupyter.widget-view+json": {
       "model_id": "6d2cd38781cd4114b9db2dff67e3f35e",
       "version_major": 2,
       "version_minor": 0
      },
      "text/plain": [
       "Running tokenizer on train dataset #2:   0%|          | 0/5 [00:00<?, ?ba/s]"
      ]
     },
     "metadata": {},
     "output_type": "display_data"
    },
    {
     "data": {
      "application/vnd.jupyter.widget-view+json": {
       "model_id": "22158783a2774351826bc3f2957f6563",
       "version_major": 2,
       "version_minor": 0
      },
      "text/plain": [
       "Running tokenizer on train dataset #3:   0%|          | 0/5 [00:00<?, ?ba/s]"
      ]
     },
     "metadata": {},
     "output_type": "display_data"
    }
   ],
   "source": [
    "# # Get the length of the original training set\n",
    "# original_train_size = len(raw_datasets[\"train\"])\n",
    "\n",
    "# # Calculate the number of samples to keep for 20% of the original training set\n",
    "# new_train_size = int(original_train_size * 0.05)\n",
    "train_dataset = raw_datasets[\"train\"].select(range(20000))\n",
    "train_dataset = train_dataset.map(\n",
    "    tokenize_and_align_labels,\n",
    "    batched=True,\n",
    "    num_proc=4,\n",
    "    load_from_cache_file=True,\n",
    "    desc=\"Running tokenizer on train dataset\",\n",
    ")"
   ]
  },
  {
   "cell_type": "code",
   "execution_count": 9,
   "metadata": {
    "execution": {
     "iopub.execute_input": "2024-03-13T04:35:46.329031Z",
     "iopub.status.busy": "2024-03-13T04:35:46.328123Z",
     "iopub.status.idle": "2024-03-13T04:35:51.073349Z",
     "shell.execute_reply": "2024-03-13T04:35:51.072308Z",
     "shell.execute_reply.started": "2024-03-13T04:35:46.328939Z"
    }
   },
   "outputs": [
    {
     "name": "stdout",
     "output_type": "stream",
     "text": [
      "       "
     ]
    },
    {
     "data": {
      "application/vnd.jupyter.widget-view+json": {
       "model_id": "785bbb8fe4b34d858f73fa8b9b73f2a7",
       "version_major": 2,
       "version_minor": 0
      },
      "text/plain": [
       "Running tokenizer on Validation dataset #0:   0%|          | 0/4 [00:00<?, ?ba/s]"
      ]
     },
     "metadata": {},
     "output_type": "display_data"
    },
    {
     "name": "stdout",
     "output_type": "stream",
     "text": [
      " "
     ]
    },
    {
     "data": {
      "application/vnd.jupyter.widget-view+json": {
       "model_id": "9c96a1a9583b4aa59a86e4b0d0b0393a",
       "version_major": 2,
       "version_minor": 0
      },
      "text/plain": [
       "Running tokenizer on Validation dataset #2:   0%|          | 0/4 [00:00<?, ?ba/s]"
      ]
     },
     "metadata": {},
     "output_type": "display_data"
    },
    {
     "data": {
      "application/vnd.jupyter.widget-view+json": {
       "model_id": "bcc95129191d42eab492b482b8a90773",
       "version_major": 2,
       "version_minor": 0
      },
      "text/plain": [
       "Running tokenizer on Validation dataset #1:   0%|          | 0/4 [00:00<?, ?ba/s]"
      ]
     },
     "metadata": {},
     "output_type": "display_data"
    },
    {
     "data": {
      "application/vnd.jupyter.widget-view+json": {
       "model_id": "5de6757aedc34035b0b7b3c961028388",
       "version_major": 2,
       "version_minor": 0
      },
      "text/plain": [
       "Running tokenizer on Validation dataset #3:   0%|          | 0/4 [00:00<?, ?ba/s]"
      ]
     },
     "metadata": {},
     "output_type": "display_data"
    }
   ],
   "source": [
    "eval_dataset = raw_datasets[\"validation\"]\n",
    "eval_dataset = eval_dataset.map(\n",
    "    tokenize_and_align_labels,\n",
    "    batched=True,\n",
    "    num_proc=4,\n",
    "    load_from_cache_file=True,\n",
    "    desc=\"Running tokenizer on Validation dataset\",\n",
    ")"
   ]
  },
  {
   "cell_type": "code",
   "execution_count": 10,
   "metadata": {
    "execution": {
     "iopub.execute_input": "2024-03-13T04:35:51.074961Z",
     "iopub.status.busy": "2024-03-13T04:35:51.074678Z",
     "iopub.status.idle": "2024-03-13T04:35:51.080062Z",
     "shell.execute_reply": "2024-03-13T04:35:51.078982Z",
     "shell.execute_reply.started": "2024-03-13T04:35:51.074933Z"
    }
   },
   "outputs": [],
   "source": [
    "data_collator = DataCollatorForTokenClassification(tokenizer)\n"
   ]
  },
  {
   "cell_type": "code",
   "execution_count": 11,
   "metadata": {
    "execution": {
     "iopub.execute_input": "2024-03-13T04:35:51.082535Z",
     "iopub.status.busy": "2024-03-13T04:35:51.082214Z",
     "iopub.status.idle": "2024-03-13T04:35:51.797116Z",
     "shell.execute_reply": "2024-03-13T04:35:51.796357Z",
     "shell.execute_reply.started": "2024-03-13T04:35:51.082509Z"
    }
   },
   "outputs": [
    {
     "data": {
      "application/vnd.jupyter.widget-view+json": {
       "model_id": "3894d7c3ecae4070adac742154fac984",
       "version_major": 2,
       "version_minor": 0
      },
      "text/plain": [
       "Downloading builder script:   0%|          | 0.00/2.47k [00:00<?, ?B/s]"
      ]
     },
     "metadata": {},
     "output_type": "display_data"
    }
   ],
   "source": [
    "# Metrics\n",
    "metric = load_metric(\"seqeval\")\n",
    "\n",
    "def compute_metrics(p):\n",
    "    predictions, labels = p\n",
    "    predictions = np.argmax(predictions, axis=2)\n",
    "\n",
    "    # Remove ignored index (special tokens)\n",
    "    true_predictions = [\n",
    "        [label_list[p] for (p, l) in zip(prediction, label) if l != -100]\n",
    "        for prediction, label in zip(predictions, labels)\n",
    "    ]\n",
    "    true_labels = [\n",
    "        [label_list[l] for (p, l) in zip(prediction, label) if l != -100]\n",
    "        for prediction, label in zip(predictions, labels)\n",
    "    ]\n",
    "\n",
    "    results = metric.compute(predictions=true_predictions, references=true_labels)\n",
    "    # Unpack nested dictionaries\n",
    "    final_results = {}\n",
    "    for key, value in results.items():\n",
    "        if isinstance(value, dict):\n",
    "            for n, v in value.items():\n",
    "                final_results[f\"{key}_{n}\"] = v\n",
    "        else:\n",
    "            final_results[key] = value\n",
    "    return final_results"
   ]
  },
  {
   "cell_type": "code",
   "execution_count": 12,
   "metadata": {
    "execution": {
     "iopub.execute_input": "2024-03-13T04:36:08.035216Z",
     "iopub.status.busy": "2024-03-13T04:36:08.034833Z",
     "iopub.status.idle": "2024-03-13T04:36:08.047878Z",
     "shell.execute_reply": "2024-03-13T04:36:08.047058Z",
     "shell.execute_reply.started": "2024-03-13T04:36:08.035184Z"
    }
   },
   "outputs": [],
   "source": [
    "args=TrainingArguments(\n",
    "    output_dir='output_dir',\n",
    "    per_device_train_batch_size=8,\n",
    "    per_device_eval_batch_size=8,\n",
    "    num_train_epochs=3,\n",
    "    evaluation_strategy = \"epoch\",\n",
    "    learning_rate=5e-5,\n",
    "    weight_decay=0.02\n",
    ")"
   ]
  },
  {
   "cell_type": "code",
   "execution_count": 13,
   "metadata": {
    "execution": {
     "iopub.execute_input": "2024-03-13T04:36:11.042953Z",
     "iopub.status.busy": "2024-03-13T04:36:11.042625Z",
     "iopub.status.idle": "2024-03-13T04:36:12.077871Z",
     "shell.execute_reply": "2024-03-13T04:36:12.076747Z",
     "shell.execute_reply.started": "2024-03-13T04:36:11.042929Z"
    }
   },
   "outputs": [],
   "source": [
    "trainer = Trainer(\n",
    "    model=model,\n",
    "    train_dataset=train_dataset,\n",
    "    eval_dataset=eval_dataset,\n",
    "    tokenizer=tokenizer,\n",
    "    data_collator=data_collator,\n",
    "    compute_metrics=compute_metrics,\n",
    "    # callbacks=[early_stopping_callback],\n",
    "    args=args,\n",
    ")"
   ]
  },
  {
   "cell_type": "code",
   "execution_count": 14,
   "metadata": {
    "execution": {
     "iopub.execute_input": "2024-03-13T04:36:14.481451Z",
     "iopub.status.busy": "2024-03-13T04:36:14.480684Z",
     "iopub.status.idle": "2024-03-13T04:36:14.489583Z",
     "shell.execute_reply": "2024-03-13T04:36:14.488347Z",
     "shell.execute_reply.started": "2024-03-13T04:36:14.481418Z"
    }
   },
   "outputs": [
    {
     "data": {
      "text/plain": [
       "TrainingArguments(\n",
       "_n_gpu=2,\n",
       "accelerator_config={'split_batches': False, 'dispatch_batches': None, 'even_batches': True, 'use_seedable_sampler': True},\n",
       "adafactor=False,\n",
       "adam_beta1=0.9,\n",
       "adam_beta2=0.999,\n",
       "adam_epsilon=1e-08,\n",
       "auto_find_batch_size=False,\n",
       "bf16=False,\n",
       "bf16_full_eval=False,\n",
       "data_seed=None,\n",
       "dataloader_drop_last=False,\n",
       "dataloader_num_workers=0,\n",
       "dataloader_persistent_workers=False,\n",
       "dataloader_pin_memory=True,\n",
       "dataloader_prefetch_factor=None,\n",
       "ddp_backend=None,\n",
       "ddp_broadcast_buffers=None,\n",
       "ddp_bucket_cap_mb=None,\n",
       "ddp_find_unused_parameters=None,\n",
       "ddp_timeout=1800,\n",
       "debug=[],\n",
       "deepspeed=None,\n",
       "disable_tqdm=False,\n",
       "dispatch_batches=None,\n",
       "do_eval=True,\n",
       "do_predict=False,\n",
       "do_train=False,\n",
       "eval_accumulation_steps=None,\n",
       "eval_delay=0,\n",
       "eval_steps=None,\n",
       "evaluation_strategy=epoch,\n",
       "fp16=False,\n",
       "fp16_backend=auto,\n",
       "fp16_full_eval=False,\n",
       "fp16_opt_level=O1,\n",
       "fsdp=[],\n",
       "fsdp_config={'min_num_params': 0, 'xla': False, 'xla_fsdp_v2': False, 'xla_fsdp_grad_ckpt': False},\n",
       "fsdp_min_num_params=0,\n",
       "fsdp_transformer_layer_cls_to_wrap=None,\n",
       "full_determinism=False,\n",
       "gradient_accumulation_steps=1,\n",
       "gradient_checkpointing=False,\n",
       "gradient_checkpointing_kwargs=None,\n",
       "greater_is_better=None,\n",
       "group_by_length=False,\n",
       "half_precision_backend=auto,\n",
       "hub_always_push=False,\n",
       "hub_model_id=None,\n",
       "hub_private_repo=False,\n",
       "hub_strategy=every_save,\n",
       "hub_token=<HUB_TOKEN>,\n",
       "ignore_data_skip=False,\n",
       "include_inputs_for_metrics=False,\n",
       "include_num_input_tokens_seen=False,\n",
       "include_tokens_per_second=False,\n",
       "jit_mode_eval=False,\n",
       "label_names=None,\n",
       "label_smoothing_factor=0.0,\n",
       "learning_rate=5e-05,\n",
       "length_column_name=length,\n",
       "load_best_model_at_end=False,\n",
       "local_rank=0,\n",
       "log_level=passive,\n",
       "log_level_replica=warning,\n",
       "log_on_each_node=True,\n",
       "logging_dir=output_dir/runs/Mar13_04-36-08_d7d708eab0b0,\n",
       "logging_first_step=False,\n",
       "logging_nan_inf_filter=True,\n",
       "logging_steps=500,\n",
       "logging_strategy=steps,\n",
       "lr_scheduler_kwargs={},\n",
       "lr_scheduler_type=linear,\n",
       "max_grad_norm=1.0,\n",
       "max_steps=-1,\n",
       "metric_for_best_model=None,\n",
       "mp_parameters=,\n",
       "neftune_noise_alpha=None,\n",
       "no_cuda=False,\n",
       "num_train_epochs=3,\n",
       "optim=adamw_torch,\n",
       "optim_args=None,\n",
       "output_dir=output_dir,\n",
       "overwrite_output_dir=False,\n",
       "past_index=-1,\n",
       "per_device_eval_batch_size=8,\n",
       "per_device_train_batch_size=8,\n",
       "prediction_loss_only=False,\n",
       "push_to_hub=False,\n",
       "push_to_hub_model_id=None,\n",
       "push_to_hub_organization=None,\n",
       "push_to_hub_token=<PUSH_TO_HUB_TOKEN>,\n",
       "ray_scope=last,\n",
       "remove_unused_columns=True,\n",
       "report_to=['tensorboard', 'wandb'],\n",
       "resume_from_checkpoint=None,\n",
       "run_name=output_dir,\n",
       "save_on_each_node=False,\n",
       "save_only_model=False,\n",
       "save_safetensors=True,\n",
       "save_steps=500,\n",
       "save_strategy=steps,\n",
       "save_total_limit=None,\n",
       "seed=42,\n",
       "skip_memory_metrics=True,\n",
       "split_batches=None,\n",
       "tf32=None,\n",
       "torch_compile=False,\n",
       "torch_compile_backend=None,\n",
       "torch_compile_mode=None,\n",
       "torchdynamo=None,\n",
       "tpu_metrics_debug=False,\n",
       "tpu_num_cores=None,\n",
       "use_cpu=False,\n",
       "use_ipex=False,\n",
       "use_legacy_prediction_loop=False,\n",
       "use_mps_device=False,\n",
       "warmup_ratio=0.0,\n",
       "warmup_steps=0,\n",
       "weight_decay=0.02,\n",
       ")"
      ]
     },
     "execution_count": 14,
     "metadata": {},
     "output_type": "execute_result"
    }
   ],
   "source": [
    "trainer.args"
   ]
  },
  {
   "cell_type": "code",
   "execution_count": 15,
   "metadata": {
    "execution": {
     "iopub.execute_input": "2024-03-13T04:36:18.626499Z",
     "iopub.status.busy": "2024-03-13T04:36:18.625898Z",
     "iopub.status.idle": "2024-03-13T05:49:56.733621Z",
     "shell.execute_reply": "2024-03-13T05:49:56.732592Z",
     "shell.execute_reply.started": "2024-03-13T04:36:18.626469Z"
    }
   },
   "outputs": [
    {
     "name": "stderr",
     "output_type": "stream",
     "text": [
      "\u001b[34m\u001b[1mwandb\u001b[0m: Logging into wandb.ai. (Learn how to deploy a W&B server locally: https://wandb.me/wandb-server)\n",
      "\u001b[34m\u001b[1mwandb\u001b[0m: You can find your API key in your browser here: https://wandb.ai/authorize\n",
      "\u001b[34m\u001b[1mwandb\u001b[0m: Paste an API key from your profile and hit enter, or press ctrl+c to quit:"
     ]
    },
    {
     "name": "stdin",
     "output_type": "stream",
     "text": [
      "  ········································\n"
     ]
    },
    {
     "name": "stderr",
     "output_type": "stream",
     "text": [
      "\u001b[34m\u001b[1mwandb\u001b[0m: Appending key for api.wandb.ai to your netrc file: /root/.netrc\n"
     ]
    },
    {
     "data": {
      "text/html": [
       "wandb version 0.16.4 is available!  To upgrade, please run:\n",
       " $ pip install wandb --upgrade"
      ],
      "text/plain": [
       "<IPython.core.display.HTML object>"
      ]
     },
     "metadata": {},
     "output_type": "display_data"
    },
    {
     "data": {
      "text/html": [
       "Tracking run with wandb version 0.16.3"
      ],
      "text/plain": [
       "<IPython.core.display.HTML object>"
      ]
     },
     "metadata": {},
     "output_type": "display_data"
    },
    {
     "data": {
      "text/html": [
       "Run data is saved locally in <code>/kaggle/working/wandb/run-20240313_043630-cmgqef6s</code>"
      ],
      "text/plain": [
       "<IPython.core.display.HTML object>"
      ]
     },
     "metadata": {},
     "output_type": "display_data"
    },
    {
     "data": {
      "text/html": [
       "Syncing run <strong><a href='https://wandb.ai/student_12/huggingface/runs/cmgqef6s' target=\"_blank\">prime-night-10</a></strong> to <a href='https://wandb.ai/student_12/huggingface' target=\"_blank\">Weights & Biases</a> (<a href='https://wandb.me/run' target=\"_blank\">docs</a>)<br/>"
      ],
      "text/plain": [
       "<IPython.core.display.HTML object>"
      ]
     },
     "metadata": {},
     "output_type": "display_data"
    },
    {
     "data": {
      "text/html": [
       " View project at <a href='https://wandb.ai/student_12/huggingface' target=\"_blank\">https://wandb.ai/student_12/huggingface</a>"
      ],
      "text/plain": [
       "<IPython.core.display.HTML object>"
      ]
     },
     "metadata": {},
     "output_type": "display_data"
    },
    {
     "data": {
      "text/html": [
       " View run at <a href='https://wandb.ai/student_12/huggingface/runs/cmgqef6s' target=\"_blank\">https://wandb.ai/student_12/huggingface/runs/cmgqef6s</a>"
      ],
      "text/plain": [
       "<IPython.core.display.HTML object>"
      ]
     },
     "metadata": {},
     "output_type": "display_data"
    },
    {
     "name": "stderr",
     "output_type": "stream",
     "text": [
      "/opt/conda/lib/python3.10/site-packages/torch/nn/parallel/_functions.py:68: UserWarning: Was asked to gather along dimension 0, but all input tensors were scalars; will instead unsqueeze and return a vector.\n",
      "  warnings.warn('Was asked to gather along dimension 0, but all '\n"
     ]
    },
    {
     "data": {
      "text/html": [
       "\n",
       "    <div>\n",
       "      \n",
       "      <progress value='3750' max='3750' style='width:300px; height:20px; vertical-align: middle;'></progress>\n",
       "      [3750/3750 1:12:50, Epoch 3/3]\n",
       "    </div>\n",
       "    <table border=\"1\" class=\"dataframe\">\n",
       "  <thead>\n",
       " <tr style=\"text-align: left;\">\n",
       "      <th>Epoch</th>\n",
       "      <th>Training Loss</th>\n",
       "      <th>Validation Loss</th>\n",
       "      <th>Loc Precision</th>\n",
       "      <th>Loc Recall</th>\n",
       "      <th>Loc F1</th>\n",
       "      <th>Loc Number</th>\n",
       "      <th>Org Precision</th>\n",
       "      <th>Org Recall</th>\n",
       "      <th>Org F1</th>\n",
       "      <th>Org Number</th>\n",
       "      <th>Per Precision</th>\n",
       "      <th>Per Recall</th>\n",
       "      <th>Per F1</th>\n",
       "      <th>Per Number</th>\n",
       "      <th>Overall Precision</th>\n",
       "      <th>Overall Recall</th>\n",
       "      <th>Overall F1</th>\n",
       "      <th>Overall Accuracy</th>\n",
       "    </tr>\n",
       "  </thead>\n",
       "  <tbody>\n",
       "    <tr>\n",
       "      <td>1</td>\n",
       "      <td>0.153100</td>\n",
       "      <td>0.170998</td>\n",
       "      <td>0.810911</td>\n",
       "      <td>0.855772</td>\n",
       "      <td>0.832738</td>\n",
       "      <td>10213</td>\n",
       "      <td>0.681762</td>\n",
       "      <td>0.676885</td>\n",
       "      <td>0.679315</td>\n",
       "      <td>9786</td>\n",
       "      <td>0.805359</td>\n",
       "      <td>0.839042</td>\n",
       "      <td>0.821856</td>\n",
       "      <td>10568</td>\n",
       "      <td>0.769140</td>\n",
       "      <td>0.792718</td>\n",
       "      <td>0.780751</td>\n",
       "      <td>0.947085</td>\n",
       "    </tr>\n",
       "    <tr>\n",
       "      <td>2</td>\n",
       "      <td>0.103200</td>\n",
       "      <td>0.182718</td>\n",
       "      <td>0.817899</td>\n",
       "      <td>0.849212</td>\n",
       "      <td>0.833261</td>\n",
       "      <td>10213</td>\n",
       "      <td>0.672278</td>\n",
       "      <td>0.697834</td>\n",
       "      <td>0.684817</td>\n",
       "      <td>9786</td>\n",
       "      <td>0.805091</td>\n",
       "      <td>0.829012</td>\n",
       "      <td>0.816876</td>\n",
       "      <td>10568</td>\n",
       "      <td>0.766749</td>\n",
       "      <td>0.793765</td>\n",
       "      <td>0.780023</td>\n",
       "      <td>0.946727</td>\n",
       "    </tr>\n",
       "    <tr>\n",
       "      <td>3</td>\n",
       "      <td>0.074100</td>\n",
       "      <td>0.207823</td>\n",
       "      <td>0.810879</td>\n",
       "      <td>0.850974</td>\n",
       "      <td>0.830443</td>\n",
       "      <td>10213</td>\n",
       "      <td>0.670534</td>\n",
       "      <td>0.685060</td>\n",
       "      <td>0.677719</td>\n",
       "      <td>9786</td>\n",
       "      <td>0.799155</td>\n",
       "      <td>0.823429</td>\n",
       "      <td>0.811111</td>\n",
       "      <td>10568</td>\n",
       "      <td>0.762443</td>\n",
       "      <td>0.788334</td>\n",
       "      <td>0.775172</td>\n",
       "      <td>0.945797</td>\n",
       "    </tr>\n",
       "  </tbody>\n",
       "</table><p>"
      ],
      "text/plain": [
       "<IPython.core.display.HTML object>"
      ]
     },
     "metadata": {},
     "output_type": "display_data"
    },
    {
     "name": "stderr",
     "output_type": "stream",
     "text": [
      "/opt/conda/lib/python3.10/site-packages/torch/nn/parallel/_functions.py:68: UserWarning: Was asked to gather along dimension 0, but all input tensors were scalars; will instead unsqueeze and return a vector.\n",
      "  warnings.warn('Was asked to gather along dimension 0, but all '\n",
      "/opt/conda/lib/python3.10/site-packages/torch/nn/parallel/_functions.py:68: UserWarning: Was asked to gather along dimension 0, but all input tensors were scalars; will instead unsqueeze and return a vector.\n",
      "  warnings.warn('Was asked to gather along dimension 0, but all '\n",
      "/opt/conda/lib/python3.10/site-packages/torch/nn/parallel/_functions.py:68: UserWarning: Was asked to gather along dimension 0, but all input tensors were scalars; will instead unsqueeze and return a vector.\n",
      "  warnings.warn('Was asked to gather along dimension 0, but all '\n",
      "/opt/conda/lib/python3.10/site-packages/torch/nn/parallel/_functions.py:68: UserWarning: Was asked to gather along dimension 0, but all input tensors were scalars; will instead unsqueeze and return a vector.\n",
      "  warnings.warn('Was asked to gather along dimension 0, but all '\n",
      "/opt/conda/lib/python3.10/site-packages/torch/nn/parallel/_functions.py:68: UserWarning: Was asked to gather along dimension 0, but all input tensors were scalars; will instead unsqueeze and return a vector.\n",
      "  warnings.warn('Was asked to gather along dimension 0, but all '\n",
      "/opt/conda/lib/python3.10/site-packages/torch/nn/parallel/_functions.py:68: UserWarning: Was asked to gather along dimension 0, but all input tensors were scalars; will instead unsqueeze and return a vector.\n",
      "  warnings.warn('Was asked to gather along dimension 0, but all '\n",
      "/opt/conda/lib/python3.10/site-packages/torch/nn/parallel/_functions.py:68: UserWarning: Was asked to gather along dimension 0, but all input tensors were scalars; will instead unsqueeze and return a vector.\n",
      "  warnings.warn('Was asked to gather along dimension 0, but all '\n"
     ]
    }
   ],
   "source": [
    "train_result = trainer.train()\n",
    "metrics = train_result.metrics"
   ]
  },
  {
   "cell_type": "code",
   "execution_count": 16,
   "metadata": {
    "execution": {
     "iopub.execute_input": "2024-03-13T05:56:39.979218Z",
     "iopub.status.busy": "2024-03-13T05:56:39.978288Z",
     "iopub.status.idle": "2024-03-13T06:01:49.801594Z",
     "shell.execute_reply": "2024-03-13T06:01:49.799097Z",
     "shell.execute_reply.started": "2024-03-13T05:56:39.979186Z"
    }
   },
   "outputs": [
    {
     "data": {
      "text/html": [],
      "text/plain": [
       "<IPython.core.display.HTML object>"
      ]
     },
     "metadata": {},
     "output_type": "display_data"
    },
    {
     "name": "stdout",
     "output_type": "stream",
     "text": [
      "***** eval metrics *****\n",
      "  epoch                   =        3.0\n",
      "  eval_LOC_f1             =     0.8304\n",
      "  eval_LOC_number         =      10213\n",
      "  eval_LOC_precision      =     0.8109\n",
      "  eval_LOC_recall         =      0.851\n",
      "  eval_ORG_f1             =     0.6777\n",
      "  eval_ORG_number         =       9786\n",
      "  eval_ORG_precision      =     0.6705\n",
      "  eval_ORG_recall         =     0.6851\n",
      "  eval_PER_f1             =     0.8111\n",
      "  eval_PER_number         =      10568\n",
      "  eval_PER_precision      =     0.7992\n",
      "  eval_PER_recall         =     0.8234\n",
      "  eval_loss               =     0.2078\n",
      "  eval_overall_accuracy   =     0.9458\n",
      "  eval_overall_f1         =     0.7752\n",
      "  eval_overall_precision  =     0.7624\n",
      "  eval_overall_recall     =     0.7883\n",
      "  eval_runtime            = 0:05:09.78\n",
      "  eval_samples_per_second =      43.45\n",
      "  eval_steps_per_second   =      2.718\n"
     ]
    }
   ],
   "source": [
    "Final_metrics = trainer.evaluate()\n",
    "\n",
    "trainer.log_metrics(\"eval\", Final_metrics)"
   ]
  },
  {
   "cell_type": "code",
   "execution_count": 17,
   "metadata": {
    "execution": {
     "iopub.execute_input": "2024-03-13T06:20:01.441199Z",
     "iopub.status.busy": "2024-03-13T06:20:01.440789Z",
     "iopub.status.idle": "2024-03-13T06:20:02.836123Z",
     "shell.execute_reply": "2024-03-13T06:20:02.835085Z",
     "shell.execute_reply.started": "2024-03-13T06:20:01.441169Z"
    }
   },
   "outputs": [],
   "source": [
    "model.save_pretrained('Finetuned_indicNER_with_20000_sentences_BatchSize=8_weight_1')"
   ]
  },
  {
   "cell_type": "code",
   "execution_count": 18,
   "metadata": {
    "execution": {
     "iopub.execute_input": "2024-03-13T06:20:04.099643Z",
     "iopub.status.busy": "2024-03-13T06:20:04.098887Z",
     "iopub.status.idle": "2024-03-13T06:20:04.164043Z",
     "shell.execute_reply": "2024-03-13T06:20:04.162843Z",
     "shell.execute_reply.started": "2024-03-13T06:20:04.099608Z"
    }
   },
   "outputs": [
    {
     "data": {
      "text/plain": [
       "('tokenizer_indicNER_BatchSize=8_weight_1/tokenizer_config.json',\n",
       " 'tokenizer_indicNER_BatchSize=8_weight_1/special_tokens_map.json',\n",
       " 'tokenizer_indicNER_BatchSize=8_weight_1/vocab.txt',\n",
       " 'tokenizer_indicNER_BatchSize=8_weight_1/added_tokens.json',\n",
       " 'tokenizer_indicNER_BatchSize=8_weight_1/tokenizer.json')"
      ]
     },
     "execution_count": 18,
     "metadata": {},
     "output_type": "execute_result"
    }
   ],
   "source": [
    "tokenizer.save_pretrained(\"tokenizer_indicNER_BatchSize=8_weight_1\")"
   ]
  },
  {
   "cell_type": "code",
   "execution_count": 19,
   "metadata": {
    "execution": {
     "iopub.execute_input": "2024-03-13T06:20:07.012395Z",
     "iopub.status.busy": "2024-03-13T06:20:07.012046Z",
     "iopub.status.idle": "2024-03-13T06:20:07.019090Z",
     "shell.execute_reply": "2024-03-13T06:20:07.018066Z",
     "shell.execute_reply.started": "2024-03-13T06:20:07.012369Z"
    }
   },
   "outputs": [],
   "source": [
    "id2label = {\n",
    "    str(i): label for i,label in enumerate(label_list)\n",
    "}\n",
    "label2id = {\n",
    "    label: str(i) for i,label in enumerate(label_list)\n",
    "}"
   ]
  },
  {
   "cell_type": "code",
   "execution_count": 20,
   "metadata": {
    "execution": {
     "iopub.execute_input": "2024-03-13T06:20:12.649655Z",
     "iopub.status.busy": "2024-03-13T06:20:12.648802Z",
     "iopub.status.idle": "2024-03-13T06:20:12.655547Z",
     "shell.execute_reply": "2024-03-13T06:20:12.654561Z",
     "shell.execute_reply.started": "2024-03-13T06:20:12.649619Z"
    }
   },
   "outputs": [],
   "source": [
    "import json\n",
    "config = json.load(open(\"/kaggle/working/Finetuned_indicNER_with_20000_sentences_BatchSize=8_weight_1/config.json\"))"
   ]
  },
  {
   "cell_type": "code",
   "execution_count": 21,
   "metadata": {
    "execution": {
     "iopub.execute_input": "2024-03-13T06:20:15.066280Z",
     "iopub.status.busy": "2024-03-13T06:20:15.065655Z",
     "iopub.status.idle": "2024-03-13T06:20:15.071936Z",
     "shell.execute_reply": "2024-03-13T06:20:15.070789Z",
     "shell.execute_reply.started": "2024-03-13T06:20:15.066250Z"
    }
   },
   "outputs": [],
   "source": [
    "config[\"id2label\"] = id2label\n",
    "config[\"label2id\"] = label2id"
   ]
  },
  {
   "cell_type": "code",
   "execution_count": null,
   "metadata": {},
   "outputs": [],
   "source": []
  },
  {
   "cell_type": "code",
   "execution_count": 22,
   "metadata": {
    "execution": {
     "iopub.execute_input": "2024-03-13T06:20:24.416144Z",
     "iopub.status.busy": "2024-03-13T06:20:24.415356Z",
     "iopub.status.idle": "2024-03-13T06:20:24.424991Z",
     "shell.execute_reply": "2024-03-13T06:20:24.423543Z",
     "shell.execute_reply.started": "2024-03-13T06:20:24.416113Z"
    }
   },
   "outputs": [],
   "source": [
    "json.dump(config, open(\"/kaggle/working/Finetuned_indicNER_with_20000_sentences_BatchSize=8_weight_1/config.json\",\"w\"))"
   ]
  },
  {
   "cell_type": "code",
   "execution_count": 23,
   "metadata": {
    "execution": {
     "iopub.execute_input": "2024-03-13T06:20:29.840196Z",
     "iopub.status.busy": "2024-03-13T06:20:29.839348Z",
     "iopub.status.idle": "2024-03-13T06:20:30.189258Z",
     "shell.execute_reply": "2024-03-13T06:20:30.188183Z",
     "shell.execute_reply.started": "2024-03-13T06:20:29.840153Z"
    }
   },
   "outputs": [],
   "source": [
    "model = AutoModelForTokenClassification.from_pretrained('/kaggle/working/Finetuned_indicNER_with_20000_sentences_BatchSize=8_weight_1')"
   ]
  },
  {
   "cell_type": "code",
   "execution_count": 24,
   "metadata": {
    "execution": {
     "iopub.execute_input": "2024-03-13T06:20:34.737780Z",
     "iopub.status.busy": "2024-03-13T06:20:34.736853Z",
     "iopub.status.idle": "2024-03-13T06:20:34.748918Z",
     "shell.execute_reply": "2024-03-13T06:20:34.747754Z",
     "shell.execute_reply.started": "2024-03-13T06:20:34.737745Z"
    }
   },
   "outputs": [
    {
     "data": {
      "text/plain": [
       "BertForTokenClassification(\n",
       "  (bert): BertModel(\n",
       "    (embeddings): BertEmbeddings(\n",
       "      (word_embeddings): Embedding(105879, 768, padding_idx=0)\n",
       "      (position_embeddings): Embedding(512, 768)\n",
       "      (token_type_embeddings): Embedding(2, 768)\n",
       "      (LayerNorm): LayerNorm((768,), eps=1e-12, elementwise_affine=True)\n",
       "      (dropout): Dropout(p=0.1, inplace=False)\n",
       "    )\n",
       "    (encoder): BertEncoder(\n",
       "      (layer): ModuleList(\n",
       "        (0-11): 12 x BertLayer(\n",
       "          (attention): BertAttention(\n",
       "            (self): BertSelfAttention(\n",
       "              (query): Linear(in_features=768, out_features=768, bias=True)\n",
       "              (key): Linear(in_features=768, out_features=768, bias=True)\n",
       "              (value): Linear(in_features=768, out_features=768, bias=True)\n",
       "              (dropout): Dropout(p=0.1, inplace=False)\n",
       "            )\n",
       "            (output): BertSelfOutput(\n",
       "              (dense): Linear(in_features=768, out_features=768, bias=True)\n",
       "              (LayerNorm): LayerNorm((768,), eps=1e-12, elementwise_affine=True)\n",
       "              (dropout): Dropout(p=0.1, inplace=False)\n",
       "            )\n",
       "          )\n",
       "          (intermediate): BertIntermediate(\n",
       "            (dense): Linear(in_features=768, out_features=3072, bias=True)\n",
       "            (intermediate_act_fn): GELUActivation()\n",
       "          )\n",
       "          (output): BertOutput(\n",
       "            (dense): Linear(in_features=3072, out_features=768, bias=True)\n",
       "            (LayerNorm): LayerNorm((768,), eps=1e-12, elementwise_affine=True)\n",
       "            (dropout): Dropout(p=0.1, inplace=False)\n",
       "          )\n",
       "        )\n",
       "      )\n",
       "    )\n",
       "  )\n",
       "  (dropout): Dropout(p=0.1, inplace=False)\n",
       "  (classifier): Linear(in_features=768, out_features=7, bias=True)\n",
       ")"
      ]
     },
     "execution_count": 24,
     "metadata": {},
     "output_type": "execute_result"
    }
   ],
   "source": [
    "model"
   ]
  },
  {
   "cell_type": "code",
   "execution_count": 35,
   "metadata": {
    "execution": {
     "iopub.execute_input": "2024-03-13T06:46:12.848276Z",
     "iopub.status.busy": "2024-03-13T06:46:12.847914Z",
     "iopub.status.idle": "2024-03-13T06:46:49.722499Z",
     "shell.execute_reply": "2024-03-13T06:46:49.721226Z",
     "shell.execute_reply.started": "2024-03-13T06:46:12.848246Z"
    }
   },
   "outputs": [
    {
     "name": "stdout",
     "output_type": "stream",
     "text": [
      "  adding: kaggle/working/Finetuned_indicNER_with_20000_sentences_BatchSize=8_weight_1/ (stored 0%)\n",
      "  adding: kaggle/working/Finetuned_indicNER_with_20000_sentences_BatchSize=8_weight_1/config.json (deflated 50%)\n",
      "  adding: kaggle/working/Finetuned_indicNER_with_20000_sentences_BatchSize=8_weight_1/model.safetensors (deflated 7%)\n"
     ]
    }
   ],
   "source": [
    "!zip -r IndicNERTuned_20000_BatchSize8weightdecay_best.zip /kaggle/working/Finetuned_indicNER_with_20000_sentences_BatchSize=8_weight_1"
   ]
  },
  {
   "cell_type": "code",
   "execution_count": 36,
   "metadata": {
    "execution": {
     "iopub.execute_input": "2024-03-13T06:46:53.939757Z",
     "iopub.status.busy": "2024-03-13T06:46:53.939392Z",
     "iopub.status.idle": "2024-03-13T06:46:55.226133Z",
     "shell.execute_reply": "2024-03-13T06:46:55.224855Z",
     "shell.execute_reply.started": "2024-03-13T06:46:53.939727Z"
    }
   },
   "outputs": [
    {
     "name": "stdout",
     "output_type": "stream",
     "text": [
      "  adding: kaggle/working/tokenizer_indicNER_BatchSize=8_weight_1/ (stored 0%)\n",
      "  adding: kaggle/working/tokenizer_indicNER_BatchSize=8_weight_1/special_tokens_map.json (deflated 80%)\n",
      "  adding: kaggle/working/tokenizer_indicNER_BatchSize=8_weight_1/tokenizer_config.json (deflated 75%)\n",
      "  adding: kaggle/working/tokenizer_indicNER_BatchSize=8_weight_1/vocab.txt (deflated 48%)\n",
      "  adding: kaggle/working/tokenizer_indicNER_BatchSize=8_weight_1/tokenizer.json (deflated 69%)\n"
     ]
    }
   ],
   "source": [
    "!zip -r IndicNER_tokenizer_20000_BatchSize8_best.zip /kaggle/working/tokenizer_indicNER_BatchSize=8_weight_1"
   ]
  },
  {
   "cell_type": "code",
   "execution_count": 25,
   "metadata": {
    "execution": {
     "iopub.execute_input": "2024-03-13T06:20:41.290293Z",
     "iopub.status.busy": "2024-03-13T06:20:41.289928Z",
     "iopub.status.idle": "2024-03-13T06:20:41.986228Z",
     "shell.execute_reply": "2024-03-13T06:20:41.985085Z",
     "shell.execute_reply.started": "2024-03-13T06:20:41.290266Z"
    }
   },
   "outputs": [
    {
     "name": "stdout",
     "output_type": "stream",
     "text": [
      "        "
     ]
    },
    {
     "data": {
      "application/vnd.jupyter.widget-view+json": {
       "model_id": "3a8c4585168f4a30b9e3dca72f0a0ff9",
       "version_major": 2,
       "version_minor": 0
      },
      "text/plain": [
       "Running tokenizer on test dataset #0:   0%|          | 0/1 [00:00<?, ?ba/s]"
      ]
     },
     "metadata": {},
     "output_type": "display_data"
    },
    {
     "data": {
      "application/vnd.jupyter.widget-view+json": {
       "model_id": "103ba4252baf467087796dc31de9d368",
       "version_major": 2,
       "version_minor": 0
      },
      "text/plain": [
       "Running tokenizer on test dataset #1:   0%|          | 0/1 [00:00<?, ?ba/s]"
      ]
     },
     "metadata": {},
     "output_type": "display_data"
    },
    {
     "data": {
      "application/vnd.jupyter.widget-view+json": {
       "model_id": "c10847d577764aac907ff8e457e0a514",
       "version_major": 2,
       "version_minor": 0
      },
      "text/plain": [
       "Running tokenizer on test dataset #2:   0%|          | 0/1 [00:00<?, ?ba/s]"
      ]
     },
     "metadata": {},
     "output_type": "display_data"
    },
    {
     "data": {
      "application/vnd.jupyter.widget-view+json": {
       "model_id": "35826745d54e41b597f66fc3148b665e",
       "version_major": 2,
       "version_minor": 0
      },
      "text/plain": [
       "Running tokenizer on test dataset #3:   0%|          | 0/1 [00:00<?, ?ba/s]"
      ]
     },
     "metadata": {},
     "output_type": "display_data"
    }
   ],
   "source": [
    "test_dataset = raw_datasets[\"test\"]\n",
    "tokenize_test_dataset = test_dataset.map(\n",
    "    tokenize_and_align_labels,\n",
    "    batched=True,\n",
    "    num_proc=4,\n",
    "    load_from_cache_file=True,\n",
    "    desc=\"Running tokenizer on test dataset\",\n",
    ")"
   ]
  },
  {
   "cell_type": "code",
   "execution_count": 26,
   "metadata": {
    "execution": {
     "iopub.execute_input": "2024-03-13T06:20:43.975972Z",
     "iopub.status.busy": "2024-03-13T06:20:43.975230Z",
     "iopub.status.idle": "2024-03-13T06:21:04.851597Z",
     "shell.execute_reply": "2024-03-13T06:21:04.850390Z",
     "shell.execute_reply.started": "2024-03-13T06:20:43.975937Z"
    }
   },
   "outputs": [],
   "source": [
    "predictions, labels, metrics = trainer.predict(tokenize_test_dataset)\n",
    "\n",
    "lang_specific_results = {}\n",
    "for key in metrics:\n",
    "    if 'overall_precision' in key:\n",
    "      lang_specific_results['Precision'] = metrics[key]\n",
    "    elif 'overall_recall' in key:\n",
    "      lang_specific_results['Recall'] = metrics[key]\n",
    "    elif 'overall_f1' in key:\n",
    "      lang_specific_results['F1'] = metrics[key]"
   ]
  },
  {
   "cell_type": "code",
   "execution_count": 27,
   "metadata": {
    "execution": {
     "iopub.execute_input": "2024-03-13T06:21:08.000783Z",
     "iopub.status.busy": "2024-03-13T06:21:08.000103Z",
     "iopub.status.idle": "2024-03-13T06:21:08.007978Z",
     "shell.execute_reply": "2024-03-13T06:21:08.006626Z",
     "shell.execute_reply.started": "2024-03-13T06:21:08.000748Z"
    }
   },
   "outputs": [
    {
     "name": "stdout",
     "output_type": "stream",
     "text": [
      "{'test_loss': 0.17027251422405243, 'test_LOC_precision': 0.797427652733119, 'test_LOC_recall': 0.8078175895765473, 'test_LOC_f1': 0.8025889967637541, 'test_LOC_number': 614, 'test_ORG_precision': 0.6486486486486487, 'test_ORG_recall': 0.7771428571428571, 'test_ORG_f1': 0.7071057192374349, 'test_ORG_number': 525, 'test_PER_precision': 0.8284023668639053, 'test_PER_recall': 0.8860759493670886, 'test_PER_f1': 0.856269113149847, 'test_PER_number': 790, 'test_overall_precision': 0.7652671755725191, 'test_overall_recall': 0.831518921721099, 'test_overall_f1': 0.7970186335403726, 'test_overall_accuracy': 0.9536520384054693, 'test_runtime': 20.8601, 'test_samples_per_second': 41.563, 'test_steps_per_second': 2.637}\n"
     ]
    }
   ],
   "source": [
    "print(metrics)"
   ]
  },
  {
   "cell_type": "code",
   "execution_count": 28,
   "metadata": {
    "execution": {
     "iopub.execute_input": "2024-03-13T06:21:11.451238Z",
     "iopub.status.busy": "2024-03-13T06:21:11.450855Z",
     "iopub.status.idle": "2024-03-13T06:21:11.458454Z",
     "shell.execute_reply": "2024-03-13T06:21:11.457488Z",
     "shell.execute_reply.started": "2024-03-13T06:21:11.451207Z"
    }
   },
   "outputs": [
    {
     "name": "stdout",
     "output_type": "stream",
     "text": [
      "macro f1 score is :: 0.7970186335403726\n"
     ]
    }
   ],
   "source": [
    "print('macro f1 score is ::',metrics['test_overall_f1'])"
   ]
  },
  {
   "cell_type": "code",
   "execution_count": 29,
   "metadata": {
    "execution": {
     "iopub.execute_input": "2024-03-13T06:21:14.645889Z",
     "iopub.status.busy": "2024-03-13T06:21:14.645141Z",
     "iopub.status.idle": "2024-03-13T06:21:14.652658Z",
     "shell.execute_reply": "2024-03-13T06:21:14.651563Z",
     "shell.execute_reply.started": "2024-03-13T06:21:14.645857Z"
    }
   },
   "outputs": [
    {
     "name": "stdout",
     "output_type": "stream",
     "text": [
      "{'Precision': 0.7652671755725191, 'Recall': 0.831518921721099, 'F1': 0.7970186335403726}\n"
     ]
    }
   ],
   "source": [
    "print(lang_specific_results)"
   ]
  },
  {
   "cell_type": "code",
   "execution_count": 33,
   "metadata": {
    "execution": {
     "iopub.execute_input": "2024-03-13T06:32:26.606551Z",
     "iopub.status.busy": "2024-03-13T06:32:26.606172Z",
     "iopub.status.idle": "2024-03-13T06:40:05.862874Z",
     "shell.execute_reply": "2024-03-13T06:40:05.861813Z",
     "shell.execute_reply.started": "2024-03-13T06:32:26.606520Z"
    }
   },
   "outputs": [
    {
     "data": {
      "text/html": [],
      "text/plain": [
       "<IPython.core.display.HTML object>"
      ]
     },
     "metadata": {},
     "output_type": "display_data"
    }
   ],
   "source": [
    "predictions, labels, metrics = trainer.predict(train_dataset)\n",
    "\n",
    "lang_specific_results = {}\n",
    "for key in metrics:\n",
    "    if 'overall_precision' in key:\n",
    "      lang_specific_results['Precision'] = metrics[key]\n",
    "    elif 'overall_recall' in key:\n",
    "      lang_specific_results['Recall'] = metrics[key]\n",
    "    elif 'overall_f1' in key:\n",
    "      lang_specific_results['F1'] = metrics[key]"
   ]
  },
  {
   "cell_type": "code",
   "execution_count": 34,
   "metadata": {
    "execution": {
     "iopub.execute_input": "2024-03-13T06:45:45.338866Z",
     "iopub.status.busy": "2024-03-13T06:45:45.338457Z",
     "iopub.status.idle": "2024-03-13T06:45:45.347268Z",
     "shell.execute_reply": "2024-03-13T06:45:45.346186Z",
     "shell.execute_reply.started": "2024-03-13T06:45:45.338835Z"
    }
   },
   "outputs": [
    {
     "name": "stdout",
     "output_type": "stream",
     "text": [
      "{'test_loss': 0.048478271812200546, 'test_LOC_precision': 0.912650406504065, 'test_LOC_recall': 0.9454888484603463, 'test_LOC_f1': 0.9287794545935928, 'test_LOC_number': 14841, 'test_ORG_precision': 0.8692416725726435, 'test_ORG_recall': 0.8709700326658145, 'test_ORG_f1': 0.8701049943246311, 'test_ORG_number': 14082, 'test_PER_precision': 0.9176620076238882, 'test_PER_recall': 0.9250672473421289, 'test_PER_f1': 0.9213497480385278, 'test_PER_number': 15614, 'test_overall_precision': 0.9008512990602543, 'test_overall_recall': 0.9147674966881469, 'test_overall_f1': 0.9077560660413093, 'test_overall_accuracy': 0.9837717106085218, 'test_runtime': 459.2142, 'test_samples_per_second': 43.553, 'test_steps_per_second': 2.722}\n",
      "\n",
      "\n",
      "{'Precision': 0.9008512990602543, 'Recall': 0.9147674966881469, 'F1': 0.9077560660413093}\n"
     ]
    }
   ],
   "source": [
    "print(metrics)\n",
    "print('\\n')\n",
    "print(lang_specific_results)"
   ]
  },
  {
   "cell_type": "code",
   "execution_count": 30,
   "metadata": {
    "execution": {
     "iopub.execute_input": "2024-03-13T06:21:17.323626Z",
     "iopub.status.busy": "2024-03-13T06:21:17.322891Z",
     "iopub.status.idle": "2024-03-13T06:21:17.334100Z",
     "shell.execute_reply": "2024-03-13T06:21:17.332995Z",
     "shell.execute_reply.started": "2024-03-13T06:21:17.323591Z"
    }
   },
   "outputs": [],
   "source": [
    "import torch\n",
    "def get_ner(sentence):\n",
    "    tok_sentence = tokenizer(sentence, return_tensors='pt')\n",
    "\n",
    "    with torch.no_grad():\n",
    "        logits = model(**tok_sentence).logits.argmax(-1)\n",
    "        predicted_tokens_classes = [\n",
    "            model.config.id2label[t.item()] for t in logits[0]]\n",
    "\n",
    "        predicted_labels = []\n",
    "\n",
    "        previous_token_id = 0\n",
    "        word_ids = tok_sentence.word_ids()\n",
    "        for word_index in range(len(word_ids)):\n",
    "            if word_ids[word_index] == None:\n",
    "                previous_token_id = word_ids[word_index]\n",
    "            elif word_ids[word_index] == previous_token_id:\n",
    "                previous_token_id = word_ids[word_index]\n",
    "            else:\n",
    "                predicted_labels.append(predicted_tokens_classes[word_index])\n",
    "                previous_token_id = word_ids[word_index]\n",
    "\n",
    "        ner_output = []\n",
    "        for index in range(len(sentence.split(' '))):\n",
    "            if(index<len(predicted_labels)):\n",
    "                ner_output.append((sentence.split(' ')[index], predicted_labels[index]))\n",
    "            else:\n",
    "                ner_output.append((sentence.split(' ')[index], 'O'))\n",
    "        return ner_output"
   ]
  },
  {
   "cell_type": "code",
   "execution_count": 31,
   "metadata": {
    "execution": {
     "iopub.execute_input": "2024-03-13T06:21:20.038285Z",
     "iopub.status.busy": "2024-03-13T06:21:20.037912Z",
     "iopub.status.idle": "2024-03-13T06:21:22.439490Z",
     "shell.execute_reply": "2024-03-13T06:21:22.437769Z",
     "shell.execute_reply.started": "2024-03-13T06:21:20.038254Z"
    }
   },
   "outputs": [
    {
     "name": "stdout",
     "output_type": "stream",
     "text": [
      "[['B-PER', 'B-PER', 'O', 'O', 'O', 'O', 'O', 'O', 'O', 'O', 'O', 'O', 'O', 'O', 'O', 'O', 'O', 'O', 'O', 'O', 'O', 'NULL', 'O', 'O', 'O', 'O', 'O', 'B-PER', 'O', 'O', 'O', 'O', 'O', 'O', 'O', 'O', 'O', 'O', 'O', 'O', 'O', 'O', 'O', 'O', 'O', 'O', 'O', 'NULL'], ['O', 'O', 'O', 'O', 'O', 'O', 'O', 'O', 'O', 'O', 'O', 'O', 'O', 'O', 'O', 'O', 'O', 'O', 'O', 'O', 'O', 'O', 'O', 'O', 'O', 'NULL'], ['O', 'O', 'B-PER', 'I-PER', 'O', 'O', 'O', 'O', 'O', 'O', 'O', 'O', 'O', 'O', 'O', 'O', 'O', 'O', 'O', 'O', 'B-PER', 'I-PER', 'O', 'O', 'O', 'O', 'NULL', 'O', 'O', 'O', 'B-PER', 'O', 'O', 'O', 'O', 'NULL', 'B-PER', 'O', 'O', 'O', 'O', 'O', 'O'], ['B-PER', 'O', 'B-PER', 'O', 'O', 'O', 'O', 'B-PER', 'O', 'O', 'O', 'B-PER', 'O', 'B-PER', 'O', 'B-ORG', 'O', 'O', 'O', 'O', 'NULL'], ['O', 'O', 'O', 'O', 'O', 'O', 'O', 'O', 'O', 'O', 'O', 'O', 'O', 'O', 'O', 'O', 'O', 'O', 'O', 'O', 'B-PER', 'O', 'O', 'O', 'O', 'O', 'O', 'O', 'O', 'O', 'O', 'O', 'O', 'O', 'O', 'O', 'O', 'NULL', 'O', 'O', 'O', 'O', 'O', 'NULL'], ['O', 'O', 'O', 'B-PER', 'I-PER', 'O', 'O', 'O', 'O', 'O', 'B-PER', 'I-PER', 'O', 'O', 'O', 'O', 'O', 'O', 'O', 'O', 'NULL'], ['B-PER', 'O', 'O', 'B-PER', 'O', 'B-PER', 'O', 'O', 'B-PER', 'O', 'B-PER', 'O', 'O', 'NULL'], ['O', 'O', 'O', 'O', 'O', 'O', 'O', 'O', 'O', 'O', 'O', 'O', 'NULL', 'O', 'O', 'O', 'O', 'O', 'O', 'O', 'O', 'O', 'O', 'O', 'O', 'O', 'O', 'O', 'O', 'NULL', 'O', 'O', 'O', 'O', 'O', 'O', 'O', 'O', 'O', 'O', 'O', 'O', 'NULL'], ['B-LOC', 'NULL', 'O', 'B-LOC', 'O', 'O', 'O', 'O', 'O', 'O', 'O', 'NULL'], ['O', 'O', 'O', 'NULL', 'O', 'O', 'O', 'O', 'O', 'B-LOC', 'I-LOC', 'I-LOC', 'I-LOC', 'O', 'O', 'O', 'O', 'O', 'O', 'O', 'NULL'], ['O', 'NULL', 'O', 'O', 'O', 'O', 'O', 'O', 'O', 'O', 'O', 'O', 'O', 'O', 'O', 'O', 'O', 'NULL', 'O', 'O', 'O', 'O', 'O', 'O', 'O', 'O', 'O', 'O', 'NULL'], ['B-ORG', 'O', 'O', 'O', 'O', 'O', 'NULL', 'O', 'O', 'O', 'O', 'O', 'O', 'O', 'O', 'B-ORG', 'I-ORG'], ['B-ORG', 'I-ORG', 'O', 'O', 'O', 'O', 'O', 'O', 'O', 'O', 'NULL', 'O', 'O', 'O', 'O', 'O', 'O', 'O', 'O', 'O', 'O', 'O'], ['O', 'O', 'O', 'O', 'O', 'O', 'O', 'O', 'O', 'O', 'O', 'O', 'O', 'NULL'], ['O', 'O', 'O', 'O', 'O', 'O', 'O', 'O', 'O', 'O', 'O', 'O', 'O', 'O', 'O', 'O', 'NULL', 'O', 'O', 'O', 'O', 'O', 'O', 'NULL'], ['O', 'O', 'O', 'O', 'B-ORG', 'O', 'O', 'O', 'O', 'O', 'O', 'NULL'], ['O', 'O', 'O', 'O', 'O', 'O', 'O', 'O', 'O', 'O', 'O', 'O', 'O', 'O', 'O', 'O', 'O', 'O', 'O', 'O', 'O', 'O', 'O', 'O', 'O', 'O', 'O', 'O', 'O', 'O', 'O', 'O', 'B-PER', 'O', 'B-PER', 'O', 'O', 'O', 'O', 'O', 'O', 'O', 'O', 'O', 'O', 'O', 'O', 'O', 'O', 'O', 'O', 'O', 'O', 'O', 'O', 'O', 'O', 'O'], ['B-PER', 'O', 'O', 'O', 'O', 'O', 'O', 'O', 'O', 'O', 'O', 'O', 'O', 'NULL'], ['O', 'O', 'O', 'O', 'O', 'O', 'O', 'O', 'O', 'O', 'O', 'O', 'O', 'O', 'O', 'O', 'O', 'O', 'O', 'O', 'O', 'NULL'], ['O', 'O', 'O', 'O', 'O', 'O', 'O', 'O', 'O', 'O', 'O', 'O', 'O', 'B-LOC', 'O', 'O', 'B-PER', 'I-PER', 'O', 'O', 'O', 'O', 'O', 'O', 'NULL'], ['O', 'O', 'O', 'O', 'O', 'O', 'O', 'O', 'O', 'O', 'O', 'O', 'O', 'O', 'O', 'O', 'O', 'O', 'O', 'O', 'O', 'O', 'NULL'], ['O', 'O', 'O', 'O', 'O', 'O', 'O', 'O', 'O', 'O', 'O', 'O', 'O', 'O', 'O', 'O', 'O', 'O', 'O', 'O', 'NULL'], ['O', 'O', 'O', 'O', 'O', 'B-LOC', 'I-LOC', 'O', 'O', 'O', 'O', 'O', 'O', 'O', 'O', 'O', 'O', 'O', 'NULL', 'O', 'O', 'I-LOC', 'O', 'B-LOC', 'I-LOC', 'O', 'O', 'O', 'O', 'O', 'O', 'NULL'], ['O', 'O', 'O', 'O', 'O', 'O', 'O', 'O', 'B-PER', 'I-PER', 'I-PER', 'O', 'O', 'O', 'NULL', 'O', 'O', 'O', 'O', 'O', 'O', 'O', 'O', 'O', 'O', 'O', 'O', 'O', 'O', 'O', 'O', 'O', 'O', 'O', 'O', 'O', 'O', 'O', 'O', 'O', 'B-LOC', 'O', 'O', 'O', 'O', 'O', 'O', 'O', 'O', 'O', 'NULL'], ['O', 'O', 'O', 'O', 'O', 'O', 'O', 'O', 'O', 'O', 'O', 'O', 'NULL', 'O', 'O', 'O', 'O', 'O', 'O', 'O', 'O', 'O', 'O', 'O', 'O', 'O', 'O', 'O', 'O', 'NULL']]\n"
     ]
    }
   ],
   "source": [
    "All_sentences=['नारायण साईं पर जेल में रहते हुए पुलिस कर्मचारी को 13 करोड़ रुपए की रिश्वत देने का भी आरोप लगा था, लेकिन इस मामले में नारायण साईं को जमानत तो मिल चुकी है लेकिन रेप के मामले में अभी भी कोर्ट में सुनवाई चल रही है।',\n",
    "           'इसके बाद वह अपनी मां से तब तक विडियो कॉल पर बात करने से बचती रहीं तब तक उन्होंने अपने वेट कम नहीं कर लिया।',\n",
    "           'इससे पहले प्रिंस नरुला ने इस बात की पुष्टि की है कि वह शो की सहभागी एवं मोरक्को की सुंदरी नोरा फातेही के के साथ समय. . . दीप्ति अपहरण मामले पर बोले शाहरुख, लोग फिल्मों से गलत सीख लेते हैं',\n",
    "           'अखिलेश और राहुल पर हमला करते हुए योगी ने कहा कि शहजादे और युवराज का यूपी पर ध्यान नहीं जाता.',\n",
    "           'आषाढ़ माह में बारिश होने से तालाबों में मेढकाें की टर्र-टर्र सुनाई पड़ने लगती थी लेकिन इस बार बेल्हा से बादल इस कदर रूठे रहे कि मई और जून माह में सिर्फ एक मिलीमीटर बारिश हो सकी। बरसाती मेढक दिखे ही नहीं।',\n",
    "           'जानकारी है कि प्रशांत किशोर ने इस काम के लिए राहुल गांधी से कोई भी वेतन नहीं ले रहे हैं.',\n",
    "           'देवासुर संग्राम में शक्ति (नारी) ही चंडी-दुर्गा के रूप में प्रकट होती है।',\n",
    "           'इसका दुष्प्रभाव यह है कि जनप्रतिनिधियों से महत्वपूर्ण पार्टियां हो जाती हैं. फिर पार्टी कमान कंपनी का सीइओ हो जाता है और जनप्रतिनिधि उनके द्वारा नियुक्त होते हैं, केवल औपचारिक तौर पर उनका चुनाव जनता के द्वारा होना जरूरी है.',\n",
    "           'मुंबई: महाराष्ट्र की राजनीति में उठापटक का दौर जारी है.',\n",
    "           '20/08/2014 मुख्य अभियंता, धसान केन कछार सागर के अन्तर्गत गुण नियंत्रण के कार्यों को गति देने हेतु मुख्यालय परिवर्तन।',\n",
    "           'हालांकि, पिछले साल दिसंबर से सभी टेलिकॉम कंपनियों ने अपने प्रीपेड प्लान्स में बदलाव किया था, जिसके बाद ये प्रीपेड प्लान डिसकन्टिन्यू कर दिया गया है.',\n",
    "           'पैनासोनिक ने पेश किए दो स्‍मार्टफोन, कीमत है इनकी 27000 रुपए तक - India TV Paisa',\n",
    "           'एयर इंडिया को सरकार 2100 करोड़ रु की मदद देगी, 6 साल में 26000 करोड़ मिले फिर भी नहीं सुधरी हालत',\n",
    "           'पिछले मैच में हमारे साथ जो हुआ उससे टीम ने काफी कुछ सीखा.',\n",
    "           'सरकारें राजनीतिक दलों की होती हैं और वे जनता के हित में कोई योजना चलाते हैं, जिनमें वायदे ही तो होते हैं।',\n",
    "           'शपथ ग्रहण से पहले बीजेपी में बड़े बदलाव हो सकते हैं।',\n",
    "           'युधिष्ठिर की उदारता भी अलौकिक थी । जब कौरवो ने किसी प्रकार भी इनका राज्य लौटाना मंजूर नहीं किया तो इन्होंने केवल पांच गांव लेकर संतोष करना स्वीकार कर लिया और भगवान् श्रीकृष्णके द्वारा दुर्योधन को यह कहला भेजा कि यदि वह हमें हमारे इच्छानुसार केवल पांच गांव देना मंजूर कर ले तो हम युद्ध न करे ।',\n",
    "           'महंत ने कहा कि अब इंतजार के अलावा कोई विकल्प भी नहीं है।',\n",
    "           'गौरतलब है कि इस मंदिर के सामने की तरफ कुछ मीटर की दूरी पर ही पुलिस का नाका लगा रहता है।',\n",
    "           'इस शपथ ग्रहण समारोह में इस बार एक बात यह खास है कि पाकिस्‍तान के पीएम इमरान खान को न्‍योता नहीं दिया गया है।',\n",
    "           'इसी वजह से मिठाई की जगह पर लोगों ने उपहार देने के लिए ड्राई फ्रूट्स और चौकलेट का प्रयोग करना शुरू किया.',\n",
    "           'उनका कहना है कि प्रदर्शन के विश्लेषण के लिहाज से कम से कम 3-5 साल का नजरिया रखा जाना चाहिए।',\n",
    "           'रेंजर्स ने मशहूर पर्यटक स्थल टाफ्ट प्वाइंट से नीचे गुरुवार को दुर्गम इलाके से उनके शव बरामद किये। टाफ्ट प्वाइंट से योसेमिटी घाटी का मनोरम दृश्य देखने को मिलता है।',\n",
    "           'इसके पहले अपने बयान पर सफाई देते हुए प्रज्ञा सिंह ठाकुर ने ट्वीट किया, कभी-2 झूठ का बबण्डर इतना गहरा होता है कि दिन मे भी रात लगने लगती है किन्तु सूर्य अपना प्रकाश नहीं खोता पलभर के बबण्डर मे लोग भ्रमित न हों सूर्य का प्रकाश स्थाई है।',\n",
    "           'शायद हमें कभी ना पता चले लेकिन यह बहुत दुखद घटना है। खबर में बताया गया है कि दोनों 2014 से शादीशुदा थे और दोनों सॉफ्टवेयर इंजीनियर थे।'\n",
    "          ]\n",
    "IndicBERT_tag=[]\n",
    "for each_line in All_sentences:\n",
    "    # print(each_line)\n",
    "    output=get_ner(each_line)\n",
    "#     print(output)\n",
    "    List=[]\n",
    "    for index in range(len(output)):\n",
    "        List.append(output[index][1])\n",
    "        if output[index][0].find(\",\") != -1 and len(output[index][0])!=1:\n",
    "            List.append('NULL')\n",
    "        if output[index][0].find(\"।\") != -1 and len(output[index][0])!=1:\n",
    "            List.append('NULL')\n",
    "        if output[index][0].find(\".\") != -1 and len(output[index][0])!=1:\n",
    "            List.append('NULL')\n",
    "        if output[index][0].find(\":\") != -1 and len(output[index][0])!=1:\n",
    "            List.append('NULL')\n",
    "#     print(List)\n",
    "    IndicBERT_tag.append(List)\n",
    "print(IndicBERT_tag)\n",
    "\n",
    "# for line in IndicBERT_tag:\n",
    "#     print(len(line))\n"
   ]
  },
  {
   "cell_type": "code",
   "execution_count": null,
   "metadata": {},
   "outputs": [],
   "source": []
  }
 ],
 "metadata": {
  "kaggle": {
   "accelerator": "nvidiaTeslaT4",
   "dataSources": [],
   "dockerImageVersionId": 30665,
   "isGpuEnabled": true,
   "isInternetEnabled": true,
   "language": "python",
   "sourceType": "notebook"
  },
  "kernelspec": {
   "display_name": "Python 3 (ipykernel)",
   "language": "python",
   "name": "python3"
  },
  "language_info": {
   "codemirror_mode": {
    "name": "ipython",
    "version": 3
   },
   "file_extension": ".py",
   "mimetype": "text/x-python",
   "name": "python",
   "nbconvert_exporter": "python",
   "pygments_lexer": "ipython3",
   "version": "3.12.2"
  }
 },
 "nbformat": 4,
 "nbformat_minor": 4
}
